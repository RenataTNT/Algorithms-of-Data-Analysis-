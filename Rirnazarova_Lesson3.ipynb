{
 "cells": [
  {
   "cell_type": "code",
   "execution_count": 1,
   "metadata": {
    "colab": {},
    "colab_type": "code",
    "id": "zhwkeWtb1O0w"
   },
   "outputs": [],
   "source": [
    "import numpy as np\n",
    "import matplotlib.pyplot as plt"
   ]
  },
  {
   "cell_type": "code",
   "execution_count": 2,
   "metadata": {
    "colab": {},
    "colab_type": "code",
    "id": "FeKFn2yb1To4"
   },
   "outputs": [],
   "source": [
    "X = np.array([[1, 1, 1, 1, 1, 1, 1, 1, 1, 1],\n",
    "              [1, 1, 2, 1, 3, 0, 5, 10, 1, 2],\n",
    "              [500, 700, 750, 600, 1450,\n",
    "               800, 1500, 2000, 450, 1000],\n",
    "              [1, 1, 2, 1, 2, \n",
    "               1, 3, 3, 1, 2]], dtype = np.float64)\n",
    "y = np.array([0, 0, 1, 0, 1, 0, 1, 0, 1, 1], dtype = np.float64)"
   ]
  },
  {
   "cell_type": "raw",
   "metadata": {
    "colab": {},
    "colab_type": "code",
    "id": "fS4ZSyTrPD6V"
   },
   "source": [
    "# Если предсказывать с помощью линейной регрессии, то могут появляться такие числа:\n",
    "-1, -0.2, 1.3, 0.05 ..."
   ]
  },
  {
   "cell_type": "raw",
   "metadata": {
    "colab": {},
    "colab_type": "code",
    "id": "IFlAQmfoQCqc"
   },
   "source": [
    "p [0, 1]"
   ]
  },
  {
   "cell_type": "raw",
   "metadata": {
    "colab": {},
    "colab_type": "code",
    "id": "7pM_ENmXPxMN"
   },
   "source": [
    "p / (1-p)"
   ]
  },
  {
   "cell_type": "raw",
   "metadata": {
    "colab": {
     "base_uri": "https://localhost:8080/",
     "height": 34
    },
    "colab_type": "code",
    "id": "OS_TUIgdPl1M",
    "outputId": "8ea131d4-87f4-4f45-8a3d-259a26e1020d"
   },
   "source": [
    "0.5 / (1-0.5)"
   ]
  },
  {
   "cell_type": "raw",
   "metadata": {
    "colab": {
     "base_uri": "https://localhost:8080/",
     "height": 34
    },
    "colab_type": "code",
    "id": "J3tXMyWOPlh7",
    "outputId": "f4c0e4a0-6547-4f54-cc33-d6c9b0631733"
   },
   "source": [
    "0.01 / (1 - 0.01)"
   ]
  },
  {
   "cell_type": "raw",
   "metadata": {
    "colab": {
     "base_uri": "https://localhost:8080/",
     "height": 34
    },
    "colab_type": "code",
    "id": "q61xUBtbPlJp",
    "outputId": "a2883d59-ab30-4ebe-d342-f79542c123fd"
   },
   "source": [
    "0.9999 / (1-0.9999)"
   ]
  },
  {
   "cell_type": "code",
   "execution_count": 3,
   "metadata": {
    "colab": {
     "base_uri": "https://localhost:8080/",
     "height": 34
    },
    "colab_type": "code",
    "id": "ImNIlxczQvf_",
    "outputId": "984af402-9b42-44d8-db18-c592475e1ab7"
   },
   "outputs": [
    {
     "data": {
      "text/plain": [
       "23.025850847100088"
      ]
     },
     "execution_count": 3,
     "metadata": {},
     "output_type": "execute_result"
    }
   ],
   "source": [
    "p = 1-1e-10\n",
    "np.log(p / (1 - p))                       "
   ]
  },
  {
   "cell_type": "code",
   "execution_count": 4,
   "metadata": {
    "colab": {
     "base_uri": "https://localhost:8080/",
     "height": 34
    },
    "colab_type": "code",
    "id": "MvFKM0w7Rndj",
    "outputId": "362ef2f2-86bb-4f81-86f7-0c60935d0705"
   },
   "outputs": [
    {
     "data": {
      "text/plain": [
       "1.3862943611198908"
      ]
     },
     "execution_count": 4,
     "metadata": {},
     "output_type": "execute_result"
    }
   ],
   "source": [
    "p = 0.8\n",
    "np.log(p / (1 - p))"
   ]
  },
  {
   "cell_type": "code",
   "execution_count": 5,
   "metadata": {
    "colab": {},
    "colab_type": "code",
    "id": "G74slpijQvIv"
   },
   "outputs": [
    {
     "data": {
      "text/plain": [
       "1.3862943611198908"
      ]
     },
     "execution_count": 5,
     "metadata": {},
     "output_type": "execute_result"
    }
   ],
   "source": [
    "np.log(p / (1 - p)) # (-inf, +inf)"
   ]
  },
  {
   "cell_type": "raw",
   "metadata": {
    "colab": {},
    "colab_type": "code",
    "id": "5GuJhwb6U-r_"
   },
   "source": [
    "W*X = np.log(p / (1 - p))"
   ]
  },
  {
   "cell_type": "raw",
   "metadata": {
    "colab": {},
    "colab_type": "code",
    "id": "ZV4jZB6zU-ho"
   },
   "source": [
    "z = W*X"
   ]
  },
  {
   "cell_type": "raw",
   "metadata": {
    "colab": {},
    "colab_type": "code",
    "id": "8JGK4ACFU-ah"
   },
   "source": [
    "z = np.log(p / (1 - p))"
   ]
  },
  {
   "cell_type": "raw",
   "metadata": {
    "colab": {},
    "colab_type": "code",
    "id": "OXiri5MjU-Ro"
   },
   "source": [
    "t = p / (1 - p) => t*(1-p) = p => t - t*p = p => t = p + t*p => t/p = 1 + t => p = t / (1 + t)"
   ]
  },
  {
   "cell_type": "raw",
   "metadata": {
    "colab": {},
    "colab_type": "code",
    "id": "UTY52T1UVihU"
   },
   "source": [
    "p = t / (1 + t)"
   ]
  },
  {
   "cell_type": "raw",
   "metadata": {
    "colab": {},
    "colab_type": "code",
    "id": "7OsfBJYfViPh"
   },
   "source": [
    "z = np.log(t) => t = e**z => e**(W*X)"
   ]
  },
  {
   "cell_type": "raw",
   "metadata": {
    "colab": {},
    "colab_type": "code",
    "id": "sC-bZpqIVhIl"
   },
   "source": [
    "p = t / (1 + t) => p = e**z / (1 + e**z) => p = 1 / (1/e**z + 1) => p = 1 / (1 + e**(-z)) => p = 1/(1 + e**(-W*X))"
   ]
  },
  {
   "cell_type": "raw",
   "metadata": {
    "colab": {},
    "colab_type": "code",
    "id": "C427WiO3Vgpx"
   },
   "source": [
    "p = 1/(1 + e**(-W*X))"
   ]
  },
  {
   "cell_type": "code",
   "execution_count": null,
   "metadata": {
    "colab": {},
    "colab_type": "code",
    "id": "_BWaUIlmU-DY"
   },
   "outputs": [],
   "source": []
  },
  {
   "cell_type": "code",
   "execution_count": 6,
   "metadata": {
    "colab": {
     "base_uri": "https://localhost:8080/",
     "height": 155
    },
    "colab_type": "code",
    "id": "yXSj4nbxHsFd",
    "outputId": "8d102d54-94bf-4acc-d5b8-d60da152b953"
   },
   "outputs": [
    {
     "data": {
      "text/plain": [
       "array([[1.00e+00, 1.00e+00, 1.00e+00, 1.00e+00, 1.00e+00, 1.00e+00,\n",
       "        1.00e+00, 1.00e+00, 1.00e+00, 1.00e+00],\n",
       "       [1.00e+00, 1.00e+00, 2.00e+00, 1.00e+00, 3.00e+00, 0.00e+00,\n",
       "        5.00e+00, 1.00e+01, 1.00e+00, 2.00e+00],\n",
       "       [5.00e+02, 7.00e+02, 7.50e+02, 6.00e+02, 1.45e+03, 8.00e+02,\n",
       "        1.50e+03, 2.00e+03, 4.50e+02, 1.00e+03],\n",
       "       [1.00e+00, 1.00e+00, 2.00e+00, 1.00e+00, 2.00e+00, 1.00e+00,\n",
       "        3.00e+00, 3.00e+00, 1.00e+00, 2.00e+00]])"
      ]
     },
     "execution_count": 6,
     "metadata": {},
     "output_type": "execute_result"
    }
   ],
   "source": [
    "X"
   ]
  },
  {
   "cell_type": "code",
   "execution_count": 7,
   "metadata": {
    "colab": {
     "base_uri": "https://localhost:8080/",
     "height": 34
    },
    "colab_type": "code",
    "id": "QU0A16vZHugZ",
    "outputId": "71d74b95-77f4-41a7-e339-c9e7b2004e4b"
   },
   "outputs": [
    {
     "data": {
      "text/plain": [
       "array([0., 0., 1., 0., 1., 0., 1., 0., 1., 1.])"
      ]
     },
     "execution_count": 7,
     "metadata": {},
     "output_type": "execute_result"
    }
   ],
   "source": [
    "y"
   ]
  },
  {
   "cell_type": "code",
   "execution_count": 8,
   "metadata": {
    "colab": {},
    "colab_type": "code",
    "id": "M-aO1NTxOUfo"
   },
   "outputs": [],
   "source": [
    "def calc_std_feat(x):\n",
    "  res = (x - x.mean()) / x.std()\n",
    "  return res"
   ]
  },
  {
   "cell_type": "code",
   "execution_count": 9,
   "metadata": {
    "colab": {},
    "colab_type": "code",
    "id": "D8EL0iGJOVpe"
   },
   "outputs": [],
   "source": [
    "X_st = X.copy()\n",
    "X_st[2, :] = calc_std_feat(X[2, :])"
   ]
  },
  {
   "cell_type": "code",
   "execution_count": 10,
   "metadata": {
    "colab": {
     "base_uri": "https://localhost:8080/",
     "height": 155
    },
    "colab_type": "code",
    "id": "gviMxz7EOuI3",
    "outputId": "af9a2576-f4d7-41d7-e216-46e0a068cfad"
   },
   "outputs": [
    {
     "data": {
      "text/plain": [
       "array([[ 1.        ,  1.        ,  1.        ,  1.        ,  1.        ,\n",
       "         1.        ,  1.        ,  1.        ,  1.        ,  1.        ],\n",
       "       [ 1.        ,  1.        ,  2.        ,  1.        ,  3.        ,\n",
       "         0.        ,  5.        , 10.        ,  1.        ,  2.        ],\n",
       "       [-0.97958969, -0.56713087, -0.46401617, -0.77336028,  0.97958969,\n",
       "        -0.36090146,  1.08270439,  2.11385144, -1.08270439,  0.05155735],\n",
       "       [ 1.        ,  1.        ,  2.        ,  1.        ,  2.        ,\n",
       "         1.        ,  3.        ,  3.        ,  1.        ,  2.        ]])"
      ]
     },
     "execution_count": 10,
     "metadata": {},
     "output_type": "execute_result"
    }
   ],
   "source": [
    "X_st"
   ]
  },
  {
   "cell_type": "markdown",
   "metadata": {},
   "source": [
    "### Домашняя работа"
   ]
  },
  {
   "cell_type": "markdown",
   "metadata": {},
   "source": [
    "<font color='red'> 1*. Измените функцию calc_logloss так, чтобы нули по возможности не попадали в np.log.  \n",
    "(если честно, то посмотрела help для sklearn.metrics.log_loss)</font>"
   ]
  },
  {
   "cell_type": "code",
   "execution_count": 11,
   "metadata": {
    "colab": {},
    "colab_type": "code",
    "id": "qMR5pOA38dDw"
   },
   "outputs": [],
   "source": [
    "def calc_logloss(y, y_pred, eps=1e-10):\n",
    "  y2=np.array([max(eps, min(1 - eps, p)) for p in y_pred])\n",
    "  err = - np.mean(y * np.log(y2) + (1.0 - y) * np.log(1.0 - y2))\n",
    "  return err"
   ]
  },
  {
   "cell_type": "code",
   "execution_count": 12,
   "metadata": {
    "colab": {
     "base_uri": "https://localhost:8080/",
     "height": 34
    },
    "colab_type": "code",
    "id": "R6zfOHMrBvnX",
    "outputId": "c26e639b-b7a5-414c-a920-928da0513938"
   },
   "outputs": [
    {
     "data": {
      "text/plain": [
       "1.000000082790371e-10"
      ]
     },
     "execution_count": 12,
     "metadata": {},
     "output_type": "execute_result"
    }
   ],
   "source": [
    "# Пример применения\n",
    "y1 = np.array([1, 0])\n",
    "y_pred1 = np.array([1,0])\n",
    "calc_logloss(y1, y_pred1)"
   ]
  },
  {
   "cell_type": "code",
   "execution_count": 13,
   "metadata": {
    "colab": {},
    "colab_type": "code",
    "id": "EEF9rWPNDnss"
   },
   "outputs": [],
   "source": [
    "def sigmoid(z):\n",
    "  res = 1 / (1 + np.exp(-z))\n",
    "  return res"
   ]
  },
  {
   "cell_type": "code",
   "execution_count": 14,
   "metadata": {
    "colab": {
     "base_uri": "https://localhost:8080/",
     "height": 224
    },
    "colab_type": "code",
    "id": "_9tN8lBEEeXU",
    "outputId": "6453ffee-0282-4363-b690-702fb4b0a70e"
   },
   "outputs": [
    {
     "data": {
      "text/plain": [
       "array([-10. ,  -9.8,  -9.6,  -9.4,  -9.2,  -9. ,  -8.8,  -8.6,  -8.4,\n",
       "        -8.2,  -8. ,  -7.8,  -7.6,  -7.4,  -7.2,  -7. ,  -6.8,  -6.6,\n",
       "        -6.4,  -6.2,  -6. ,  -5.8,  -5.6,  -5.4,  -5.2,  -5. ,  -4.8,\n",
       "        -4.6,  -4.4,  -4.2,  -4. ,  -3.8,  -3.6,  -3.4,  -3.2,  -3. ,\n",
       "        -2.8,  -2.6,  -2.4,  -2.2,  -2. ,  -1.8,  -1.6,  -1.4,  -1.2,\n",
       "        -1. ,  -0.8,  -0.6,  -0.4,  -0.2,   0. ,   0.2,   0.4,   0.6,\n",
       "         0.8,   1. ,   1.2,   1.4,   1.6,   1.8,   2. ,   2.2,   2.4,\n",
       "         2.6,   2.8,   3. ,   3.2,   3.4,   3.6,   3.8,   4. ,   4.2,\n",
       "         4.4,   4.6,   4.8,   5. ,   5.2,   5.4,   5.6,   5.8,   6. ,\n",
       "         6.2,   6.4,   6.6,   6.8,   7. ,   7.2,   7.4,   7.6,   7.8,\n",
       "         8. ,   8.2,   8.4,   8.6,   8.8,   9. ,   9.2,   9.4,   9.6,\n",
       "         9.8,  10. ])"
      ]
     },
     "execution_count": 14,
     "metadata": {},
     "output_type": "execute_result"
    }
   ],
   "source": [
    "z = np.linspace(-10, 10, 101)\n",
    "z"
   ]
  },
  {
   "cell_type": "code",
   "execution_count": 15,
   "metadata": {
    "colab": {},
    "colab_type": "code",
    "id": "nvIe3RpbEp4l"
   },
   "outputs": [],
   "source": [
    "probabilities = sigmoid(z)"
   ]
  },
  {
   "cell_type": "code",
   "execution_count": 16,
   "metadata": {
    "colab": {
     "base_uri": "https://localhost:8080/",
     "height": 283
    },
    "colab_type": "code",
    "id": "jQsCfht0Et1V",
    "outputId": "687fdef8-c8f3-4c59-baa4-5e3fab7f67c1"
   },
   "outputs": [
    {
     "data": {
      "text/plain": [
       "[<matplotlib.lines.Line2D at 0x23769570d30>]"
      ]
     },
     "execution_count": 16,
     "metadata": {},
     "output_type": "execute_result"
    },
    {
     "data": {
      "image/png": "[encoded data removed]",
      "text/plain": [
       "<Figure size 432x288 with 1 Axes>"
      ]
     },
     "metadata": {
      "needs_background": "light"
     },
     "output_type": "display_data"
    }
   ],
   "source": [
    "plt.plot(z, probabilities)"
   ]
  },
  {
   "cell_type": "code",
   "execution_count": 17,
   "metadata": {
    "colab": {},
    "colab_type": "code",
    "id": "e6TH-mkPItb6"
   },
   "outputs": [],
   "source": [
    "### Logistic Regression"
   ]
  },
  {
   "cell_type": "markdown",
   "metadata": {},
   "source": [
    "<font color='red'>2. Подберите аргументы функции eval_model для логистической регрессии таким образом, чтобы log loss был минимальным.</font>\n"
   ]
  },
  {
   "cell_type": "code",
   "execution_count": 18,
   "metadata": {},
   "outputs": [
    {
     "data": {
      "text/plain": [
       "array([0., 0., 1., 0., 1., 0., 1., 0., 1., 1.])"
      ]
     },
     "execution_count": 18,
     "metadata": {},
     "output_type": "execute_result"
    }
   ],
   "source": [
    "y"
   ]
  },
  {
   "cell_type": "code",
   "execution_count": 19,
   "metadata": {
    "colab": {},
    "colab_type": "code",
    "id": "qtgUN3LW-UIq"
   },
   "outputs": [],
   "source": [
    "def eval_model(X, y, iterations=0, alpha=1e-1):\n",
    "  np.random.seed(42)\n",
    "  W = np.random.randn(X.shape[0])\n",
    "  n = X.shape[1]\n",
    "  loss=1\n",
    "  while loss>=0.2:\n",
    "        iterations+=1\n",
    "        z = np.dot(W, X)\n",
    "        y_pred = sigmoid(z)\n",
    "        err = calc_logloss(y, y_pred)\n",
    "        loss=min(loss, err)\n",
    "        W -= alpha * (1/n * np.dot((y_pred - y), X.T))\n",
    "        if iterations % 1000 == 0:\n",
    "            print(iterations, W, err)\n",
    "  print(iterations, W, err, np.round(y_pred,2))           \n",
    "  return W"
   ]
  },
  {
   "cell_type": "code",
   "execution_count": 20,
   "metadata": {
    "colab": {
     "base_uri": "https://localhost:8080/",
     "height": 190
    },
    "colab_type": "code",
    "id": "oqX7loklBmYZ",
    "outputId": "f4849295-1f14-40d8-c8f2-d1b002e130c5"
   },
   "outputs": [
    {
     "name": "stdout",
     "output_type": "stream",
     "text": [
      "1000 [-2.77136565 -0.99588853  0.56641089  3.26813012] 0.4058781527072773\n",
      "2000 [-4.59094777 -1.0359998  -0.13825631  4.44501211] 0.35333924193451927\n",
      "3000 [-5.91004767 -1.08773886 -0.62127728  5.36155604] 0.32501347614925347\n",
      "4000 [-6.96133333 -1.14371437 -0.98694403  6.13057114] 0.3066241878369146\n",
      "5000 [-7.85498033 -1.19935714 -1.28748713  6.80564285] 0.2931244675498326\n",
      "6000 [-8.64731257 -1.25347799 -1.54786532  7.41682354] 0.2823933404331382\n",
      "7000 [-9.36966717 -1.30586395 -1.78130777  7.98193089] 0.27340382430941684\n",
      "8000 [-10.04075209  -1.35657036  -1.99546097   8.51208184] 0.26560192980297886\n",
      "9000 [-10.67239108  -1.40571631  -2.1950503    9.01453862] 0.2586628760279487\n",
      "10000 [-11.27241705  -1.45342424  -2.38315559   9.49424167] 0.2523832489493557\n",
      "11000 [-11.84623134  -1.49980367  -2.56187444   9.95467602] 0.2466285423619432\n",
      "12000 [-12.39769211  -1.54494868  -2.73269053  10.39838241] 0.24130563028249813\n",
      "13000 [-12.92964426  -1.58893958  -2.89668883  10.82727043] 0.23634741208557922\n",
      "14000 [-13.44424765  -1.63184527  -3.05468703  11.24281649] 0.23170380937383564\n",
      "15000 [-13.94318691  -1.67372557  -3.20731852  11.64619248] 0.227336263897927\n",
      "16000 [-14.4278092   -1.71463311  -3.35508641  12.03835138] 0.22321425525097466\n",
      "17000 [-14.89921687  -1.75461477  -3.49839965  12.42008546] 0.21931302927330942\n",
      "18000 [-15.35833092  -1.7937128   -3.63759762  12.79206658] 0.21561207620336362\n",
      "19000 [-15.80593544  -1.8319657   -3.77296727  13.15487458] 0.21209408632208643\n",
      "20000 [-16.2427091   -1.86940882  -3.90475531  13.50901763] 0.20874421725365053\n",
      "21000 [-16.669248    -1.90607489  -4.03317693  13.85494699] 0.20554956917030273\n",
      "22000 [-17.08608229  -1.94199439  -4.15842226  14.193068  ] 0.20249880145632285\n",
      "22854 [-17.43473628  -1.97210012  -4.26299562  14.47591951] 0.1999997380994109 [0.32 0.07 1.   0.16 0.81 0.19 1.   0.06 0.42 1.  ]\n"
     ]
    }
   ],
   "source": [
    "W = eval_model(X_st, y, iterations=0, alpha=0.1)"
   ]
  },
  {
   "cell_type": "markdown",
   "metadata": {
    "colab": {},
    "colab_type": "code",
    "id": "jp0AQlnkRBWC"
   },
   "source": [
    "<font color='red'>3. Создайте функцию calc_pred_proba, возвращающую предсказанную вероятность класса 1 (на вход подаются W, который уже посчитан функцией eval_model и X, на выходе - массив y_pred_proba).</font>\n"
   ]
  },
  {
   "cell_type": "code",
   "execution_count": 21,
   "metadata": {
    "colab": {},
    "colab_type": "code",
    "id": "GQfE_i9rbItN"
   },
   "outputs": [],
   "source": [
    "def calc_pred_proba(W, X):\n",
    "    z=np.dot(W, X)\n",
    "    return sigmoid(z)"
   ]
  },
  {
   "cell_type": "code",
   "execution_count": 22,
   "metadata": {
    "colab": {},
    "colab_type": "code",
    "id": "Mbwxo9NqbLJy"
   },
   "outputs": [
    {
     "data": {
      "text/plain": [
       "array([0.31974795, 0.07493517, 0.99992888, 0.16327147, 0.80609228,\n",
       "       0.19461528, 0.99999004, 0.06069275, 0.42180872, 0.99935982])"
      ]
     },
     "execution_count": 22,
     "metadata": {},
     "output_type": "execute_result"
    }
   ],
   "source": [
    "y_pred_proba=calc_pred_proba(W, X_st)\n",
    "y_pred_proba"
   ]
  },
  {
   "cell_type": "markdown",
   "metadata": {},
   "source": [
    "<font color='red'>4. Создайте функцию calc_pred, возвращающую предсказанный класс (на вход подаются W, который уже посчитан функцией eval_model и X, на выходе - массив y_pred).</font>"
   ]
  },
  {
   "cell_type": "code",
   "execution_count": 23,
   "metadata": {},
   "outputs": [],
   "source": [
    "def calc_pred (W, X, limit=0.5):\n",
    "    y_pred_final=np.array([1 if p>=limit else 0 for p in y_pred_proba])\n",
    "    return y_pred_final"
   ]
  },
  {
   "cell_type": "code",
   "execution_count": 24,
   "metadata": {},
   "outputs": [],
   "source": [
    "y_pred_final=calc_pred (W, X_st, limit=0.5)"
   ]
  },
  {
   "cell_type": "code",
   "execution_count": 25,
   "metadata": {},
   "outputs": [
    {
     "data": {
      "text/plain": [
       "array([0., 0., 0., 0., 0., 0., 0., 0., 1., 0.])"
      ]
     },
     "execution_count": 25,
     "metadata": {},
     "output_type": "execute_result"
    }
   ],
   "source": [
    "y-y_pred_final"
   ]
  },
  {
   "cell_type": "markdown",
   "metadata": {},
   "source": [
    "<font color='red'>5. Посчитайте Accuracy, матрицу ошибок, точность и полноту, а также F1 score.</font>"
   ]
  },
  {
   "cell_type": "code",
   "execution_count": 26,
   "metadata": {},
   "outputs": [],
   "source": [
    "def accuracy (y, y_pred):\n",
    "    return 1-np.mean(abs(y-y_pred))"
   ]
  },
  {
   "cell_type": "code",
   "execution_count": 27,
   "metadata": {},
   "outputs": [
    {
     "data": {
      "text/plain": [
       "0.9"
      ]
     },
     "execution_count": 27,
     "metadata": {},
     "output_type": "execute_result"
    }
   ],
   "source": [
    "accuracy (y, y_pred_final)"
   ]
  },
  {
   "cell_type": "code",
   "execution_count": 28,
   "metadata": {},
   "outputs": [
    {
     "data": {
      "text/plain": [
       "array([[0., 0.],\n",
       "       [0., 0.]])"
      ]
     },
     "execution_count": 28,
     "metadata": {},
     "output_type": "execute_result"
    }
   ],
   "source": [
    "err_matrix=np.zeros((2,2))\n",
    "err_matrix"
   ]
  },
  {
   "cell_type": "code",
   "execution_count": 29,
   "metadata": {},
   "outputs": [],
   "source": [
    "for i in range(len(y)):\n",
    "    if y[i]==1 and y_pred_final[i]==1:\n",
    "        err_matrix[0][0]+=1\n",
    "    elif y[i]==1 and y_pred_final[i]==0:\n",
    "        err_matrix[1][0]+=1\n",
    "    elif y[i]==0 and y_pred_final[i]==0:\n",
    "        err_matrix[1][1]+=1\n",
    "    elif y[i]==0 and y_pred_final[i]==0:\n",
    "        err_matrix[0][1]+=1"
   ]
  },
  {
   "cell_type": "code",
   "execution_count": 30,
   "metadata": {},
   "outputs": [
    {
     "data": {
      "text/plain": [
       "array([[4., 0.],\n",
       "       [1., 5.]])"
      ]
     },
     "execution_count": 30,
     "metadata": {},
     "output_type": "execute_result"
    }
   ],
   "source": [
    "err_matrix"
   ]
  },
  {
   "cell_type": "code",
   "execution_count": 31,
   "metadata": {},
   "outputs": [
    {
     "data": {
      "text/plain": [
       "(4.0, 5.0, 1.0, 0.0)"
      ]
     },
     "execution_count": 31,
     "metadata": {},
     "output_type": "execute_result"
    }
   ],
   "source": [
    "TP=err_matrix[0][0]\n",
    "TN=err_matrix[1][1]\n",
    "FP=err_matrix[1][0]\n",
    "FN=err_matrix[0][1]\n",
    "TP, TN, FP, FN"
   ]
  },
  {
   "cell_type": "code",
   "execution_count": 32,
   "metadata": {},
   "outputs": [
    {
     "data": {
      "text/plain": [
       "0.8"
      ]
     },
     "execution_count": 32,
     "metadata": {},
     "output_type": "execute_result"
    }
   ],
   "source": [
    "#точность\n",
    "precision = TP/(TP+FP)\n",
    "precision"
   ]
  },
  {
   "cell_type": "code",
   "execution_count": 33,
   "metadata": {},
   "outputs": [
    {
     "data": {
      "text/plain": [
       "1.0"
      ]
     },
     "execution_count": 33,
     "metadata": {},
     "output_type": "execute_result"
    }
   ],
   "source": [
    "#полнота:\n",
    "recall=TP/(TP+FN)\n",
    "recall"
   ]
  },
  {
   "cell_type": "code",
   "execution_count": 34,
   "metadata": {},
   "outputs": [
    {
     "data": {
      "text/plain": [
       "0.888888888888889"
      ]
     },
     "execution_count": 34,
     "metadata": {},
     "output_type": "execute_result"
    }
   ],
   "source": [
    "# F1 score\n",
    "F1=2*precision*recall/(precision+recall)\n",
    "F1"
   ]
  },
  {
   "cell_type": "markdown",
   "metadata": {},
   "source": [
    "<font color='red'>6. Могла ли модель переобучиться? Почему?</font>"
   ]
  },
  {
   "cell_type": "markdown",
   "metadata": {},
   "source": [
    "Модель могла переобучиться т.к. из-за небольшого размера исходной выборки, веса могли под нее подстраиваться, ничем не сдерживаясь"
   ]
  },
  {
   "cell_type": "markdown",
   "metadata": {},
   "source": [
    "<font color='red'>7*. Создайте функции eval_model_l1 и eval_model_l2 с применением L1 и L2 регуляризаций соответственно.</font>"
   ]
  },
  {
   "cell_type": "code",
   "execution_count": 35,
   "metadata": {},
   "outputs": [],
   "source": [
    "def eval_model_l1(X, y, iterations, alpha, l1):\n",
    "  np.random.seed(42)\n",
    "  W = np.random.randn(X.shape[0])\n",
    "  n = X.shape[1]\n",
    "\n",
    "  for i in range(1,iterations+1):\n",
    "        z = np.dot(W, X)\n",
    "        y_pred = sigmoid(z)\n",
    "        err = calc_logloss(y, y_pred)\n",
    "        W -= alpha * (1/n * np.dot((y_pred - y), X.T)+ l1/2*np.sign(W))\n",
    "        if i % 1000 == 0:\n",
    "            print(i, W, err)\n",
    "  print(iterations, W, err, np.round(y_pred,2))           \n",
    "  return W"
   ]
  },
  {
   "cell_type": "code",
   "execution_count": 36,
   "metadata": {},
   "outputs": [
    {
     "name": "stdout",
     "output_type": "stream",
     "text": [
      "1000 [-2.7685615  -0.99501561  0.56594317  3.26507732] 0.40597899152628036\n",
      "2000 [-4.58510174 -1.03529195 -0.13671929  4.44017589] 0.3534861929075429\n",
      "3000 [-5.89975156 -1.08712026 -0.61757744  5.3539372 ] 0.32521192758030826\n",
      "4000 [-6.9469357  -1.14277592 -0.98192461  6.11965251] 0.30685772029850916\n",
      "5000 [-7.83647091 -1.19805635 -1.28120775  6.79132573] 0.2933892338875495\n",
      "6000 [-8.62460741 -1.25179563 -1.54032013  7.39901607] 0.28268849192776285\n",
      "7000 [-9.34267404 -1.30378721 -1.77247967  7.96055318] 0.27372914625585926\n",
      "8000 [-10.00939189  -1.35409061  -1.9853332    8.48707259] 0.2659571757434481\n",
      "9000 [-10.63660431  -1.40282809  -2.18361019   8.98585584] 0.2590475924851015\n",
      "10000 [-11.23216421  -1.45012453  -2.3703955    9.46186097] 0.25279675736621426\n",
      "11000 [-11.80149103  -1.4960913   -2.54779163   9.91858789] 0.24706997197814212\n",
      "12000 [-12.3484583   -1.54082392  -2.71728651  10.35858955] 0.24177396434181397\n",
      "13000 [-12.87592346  -1.58440375  -2.87996863  10.78378513] 0.23684153334664773\n",
      "14000 [-13.38605627  -1.62690047  -3.03665848  11.19565843] 0.23222253987593283\n",
      "15000 [-13.88054896  -1.66837449  -3.18799155  11.59538684] 0.22787839760937997\n",
      "16000 [-14.36075437  -1.70887882  -3.33447253  11.9839273 ] 0.22377858377002266\n",
      "17000 [-14.82777887  -1.74846059  -3.47651141  12.36207482] 0.219898361363796\n",
      "18000 [-15.28254624  -1.78716223  -3.61444826  12.73050295] 0.2162172521347297\n",
      "19000 [-15.72584224  -1.82502232  -3.74857041  13.08979248] 0.2127179879743213\n",
      "20000 [-16.15834645  -1.86207624  -3.87912468  13.44045189] 0.20938577485400156\n",
      "21000 [-16.58065518  -1.8983567   -4.0063262   13.78293233] 0.20620776540479602\n",
      "22000 [-16.99329834  -1.93389412  -4.1303649   14.11763862] 0.20317267357272298\n",
      "23000 [-17.39675194  -1.96871693  -4.25141028  14.44493756] 0.2002704877914543\n",
      "23000 [-17.39675194  -1.96871693  -4.25141028  14.44493756] 0.2002704877914543 [0.32 0.08 1.   0.16 0.81 0.2  1.   0.06 0.42 1.  ]\n"
     ]
    },
    {
     "data": {
      "text/plain": [
       "array([-17.39675194,  -1.96871693,  -4.25141028,  14.44493756])"
      ]
     },
     "execution_count": 36,
     "metadata": {},
     "output_type": "execute_result"
    }
   ],
   "source": [
    "#Рассмотрим результат, получаемый при предыдущих alpha и iterations, но с регуляризацией\n",
    "eval_model_l1(X_st, y, iterations=23000, alpha=0.1, l1=1e-4)"
   ]
  },
  {
   "cell_type": "code",
   "execution_count": 37,
   "metadata": {},
   "outputs": [],
   "source": [
    "def eval_model_l2(X, y, iterations, alpha, l2):\n",
    "  np.random.seed(42)\n",
    "  W = np.random.randn(X.shape[0])\n",
    "  n = X.shape[1]\n",
    "\n",
    "  for i in range(1,iterations+1):\n",
    "        z = np.dot(W, X)\n",
    "        y_pred = sigmoid(z)\n",
    "        err = calc_logloss(y, y_pred)\n",
    "        W -= alpha * (1/n * np.dot((y_pred - y), X.T)+ l2*W)\n",
    "        if i % 1000 == 0:\n",
    "            print(i, W, err)\n",
    "  print(iterations, W, err, np.round(y_pred,2))           \n",
    "  return W"
   ]
  },
  {
   "cell_type": "code",
   "execution_count": 38,
   "metadata": {},
   "outputs": [
    {
     "name": "stdout",
     "output_type": "stream",
     "text": [
      "1000 [-2.75796803 -0.99318779  0.56721109  3.25568703] 0.4063554581013665\n",
      "2000 [-4.54843546 -1.03200518 -0.12694497  4.41197657] 0.3543906944520391\n",
      "3000 [-5.82938809 -1.08141721 -0.5969543   5.29963396] 0.32657871751193973\n",
      "4000 [-6.83493004 -1.13404655 -0.94776354  6.03257446] 0.30869320640303227\n",
      "5000 [-7.67579966 -1.18548931 -1.23162974  6.66519516] 0.2957149739074884\n",
      "6000 [-8.40880748 -1.23467907 -1.47357174  7.22819196] 0.28553139959473317\n",
      "7000 [-9.06579096 -1.28149806 -1.68692013  7.73994988] 0.2771157118741075\n",
      "8000 [-9.66596264 -1.32607943 -1.87944374  8.21210081] 0.26991087395333385\n",
      "9000 [-10.2216373   -1.36860756  -2.05599725   8.65237484] 0.26358788827936913\n",
      "10000 [-10.74111235  -1.40926034  -2.21978834   9.06613496] 0.25793890180553497\n",
      "11000 [-11.23021953  -1.4481948   -2.37303625   9.45724523] 0.2528251894567295\n",
      "12000 [-11.69321015  -1.48554589  -2.51733748   9.82858453] 0.2481498253144169\n",
      "13000 [-12.1332846   -1.52142924  -2.65388001  10.18236283] 0.24384240091902148\n",
      "14000 [-12.55292199  -1.55594443  -2.78357446  10.52032272] 0.23985002873204042\n",
      "15000 [-12.95409242  -1.58917803  -2.90713752  10.84387171] 0.23613181196884647\n",
      "16000 [-13.33839771  -1.62120607  -3.02514656  11.15417127] 0.23265531758209054\n",
      "17000 [-13.70716712  -1.65209603  -3.13807658  11.45219835] 0.22939425372656164\n",
      "18000 [-14.06152391  -1.68190839  -3.24632559  11.73878863] 0.22632689665704894\n",
      "19000 [-14.40243261  -1.71069779  -3.35023265  12.01466759] 0.2234349980253616\n",
      "20000 [-14.73073318  -1.73851403  -3.45009075  12.2804732 ] 0.2207030083219618\n",
      "21000 [-15.04716616  -1.76540274  -3.5461563   12.53677281] 0.2181175133106815\n",
      "22000 [-15.35239145  -1.79140605  -3.63865618  12.78407581] 0.21566681703963547\n",
      "23000 [-15.64700258  -1.81656298  -3.72779309  13.02284345] 0.21334062769871967\n",
      "23000 [-15.64700258  -1.81656298  -3.72779309  13.02284345] 0.21334062769871967 [0.31 0.09 1.   0.17 0.79 0.22 1.   0.07 0.4  1.  ]\n"
     ]
    },
    {
     "data": {
      "text/plain": [
       "array([-15.64700258,  -1.81656298,  -3.72779309,  13.02284345])"
      ]
     },
     "execution_count": 38,
     "metadata": {},
     "output_type": "execute_result"
    }
   ],
   "source": [
    "#Рассмотрим результат, получаемый при предыдущих alpha и iterations, но с регуляризацией\n",
    "eval_model_l2(X_st, y, iterations=23000, alpha=0.1, l2=1e-4)"
   ]
  },
  {
   "cell_type": "code",
   "execution_count": null,
   "metadata": {},
   "outputs": [],
   "source": []
  }
 ],
 "metadata": {
  "colab": {
   "collapsed_sections": [],
   "name": "Lesson3_.ipynb",
   "provenance": []
  },
  "kernelspec": {
   "display_name": "Python 3",
   "language": "python",
   "name": "python3"
  },
  "language_info": {
   "codemirror_mode": {
    "name": "ipython",
    "version": 3
   },
   "file_extension": ".py",
   "mimetype": "text/x-python",
   "name": "python",
   "nbconvert_exporter": "python",
   "pygments_lexer": "ipython3",
   "version": "3.7.3"
  }
 },
 "nbformat": 4,
 "nbformat_minor": 1
}
