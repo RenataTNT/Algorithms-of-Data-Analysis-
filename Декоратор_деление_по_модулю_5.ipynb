{
  "nbformat": 4,
  "nbformat_minor": 0,
  "metadata": {
    "colab": {
      "name": "Декоратор_деление_по_модулю_5.ipynb",
      "provenance": [],
      "collapsed_sections": [],
      "authorship_tag": "ABX9TyObG6zfaadphfh5QVWHhkhU",
      "include_colab_link": true
    },
    "kernelspec": {
      "name": "python3",
      "display_name": "Python 3"
    }
  },
  "cells": [
    {
      "cell_type": "markdown",
      "metadata": {
        "id": "view-in-github",
        "colab_type": "text"
      },
      "source": [
        "<a href=\"https://colab.research.google.com/github/RenataTNT/Algorithms-of-Data-Analysis-/blob/master/%D0%94%D0%B5%D0%BA%D0%BE%D1%80%D0%B0%D1%82%D0%BE%D1%80_%D0%B4%D0%B5%D0%BB%D0%B5%D0%BD%D0%B8%D0%B5_%D0%BF%D0%BE_%D0%BC%D0%BE%D0%B4%D1%83%D0%BB%D1%8E_5.ipynb\" target=\"_parent\"><img src=\"https://colab.research.google.com/assets/colab-badge.svg\" alt=\"Open In Colab\"/></a>"
      ]
    },
    {
      "cell_type": "markdown",
      "metadata": {
        "id": "dSaSGMBvYFaw",
        "colab_type": "text"
      },
      "source": [
        "1. Напишите функцию, которая возвращает сумму двух вещественных аргументов a и b, а к ней декоратор, который делит возвращаемое значение функцией по модулю 5."
      ]
    },
    {
      "cell_type": "code",
      "metadata": {
        "id": "5hzIR5k-hRpF",
        "colab_type": "code",
        "colab": {}
      },
      "source": [
        "def modul_5(func):\n",
        "  def _func(arg1, arg2):\n",
        "    return_value = func(arg1, arg2)\n",
        "    print('original sum(a,b): ',return_value)\n",
        "    return return_value%5\n",
        "  return _func\n"
      ],
      "execution_count": 0,
      "outputs": []
    },
    {
      "cell_type": "code",
      "metadata": {
        "id": "z6njjx1-YECf",
        "colab_type": "code",
        "colab": {}
      },
      "source": [
        "@modul_5\n",
        "def a_plus_b(a: float,b: float):\n",
        "  return a+b\n"
      ],
      "execution_count": 0,
      "outputs": []
    },
    {
      "cell_type": "code",
      "metadata": {
        "id": "zX320-3NtAGM",
        "colab_type": "code",
        "colab": {
          "base_uri": "https://localhost:8080/",
          "height": 51
        },
        "outputId": "91dcb5ed-c898-4738-cc7c-9f91f7edd729"
      },
      "source": [
        "f = a_plus_b(3.3,2.5)\n",
        "print('division modulo 5 is ',f)\n"
      ],
      "execution_count": 3,
      "outputs": [
        {
          "output_type": "stream",
          "text": [
            "original sum(a,b):  5.8\n",
            "division modulo 5 is  0.7999999999999998\n"
          ],
          "name": "stdout"
        }
      ]
    },
    {
      "cell_type": "markdown",
      "metadata": {
        "id": "WPXBuklmxnHW",
        "colab_type": "text"
      },
      "source": [
        "2. Попробуйте описать своими словами основные отличия SMOTE от ADASYN, ознакомившись с документацией к ним."
      ]
    },
    {
      "cell_type": "markdown",
      "metadata": {
        "id": "nzWutM2uxr5K",
        "colab_type": "text"
      },
      "source": [
        "Как я поняла, Алгоритм SMOTE позволяет задавать количество записей, которое необходимо искусственно сгенерировать, новые элементы выбираются на отрезках от объекта до его ближайших соседей, но среди этих его соседей могут оказаться объекты, которые всречаются в мажорном классе. В случае, если доля таких объеектов, больше определенного порога, то советуют применять ADASYN, который берет только правильных соседей :))"
      ]
    }
  ]
}