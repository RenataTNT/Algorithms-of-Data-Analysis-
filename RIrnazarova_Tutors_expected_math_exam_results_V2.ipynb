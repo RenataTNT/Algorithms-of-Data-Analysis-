{
  "nbformat": 4,
  "nbformat_minor": 0,
  "metadata": {
    "kernelspec": {
      "display_name": "Python 3",
      "language": "python",
      "name": "python3"
    },
    "language_info": {
      "codemirror_mode": {
        "name": "ipython",
        "version": 3
      },
      "file_extension": ".py",
      "mimetype": "text/x-python",
      "name": "python",
      "nbconvert_exporter": "python",
      "pygments_lexer": "ipython3",
      "version": "3.7.1"
    },
    "colab": {
      "name": "RIrnazarova Tutors expected math exam results V2.ipynb",
      "provenance": [],
      "collapsed_sections": [],
      "include_colab_link": true
    }
  },
  "cells": [
    {
      "cell_type": "markdown",
      "metadata": {
        "id": "view-in-github",
        "colab_type": "text"
      },
      "source": [
        "<a href=\"https://colab.research.google.com/github/RenataTNT/Algorithms-of-Data-Analysis-/blob/master/RIrnazarova_Tutors_expected_math_exam_results_V2.ipynb\" target=\"_parent\"><img src=\"https://colab.research.google.com/assets/colab-badge.svg\" alt=\"Open In Colab\"/></a>"
      ]
    },
    {
      "cell_type": "markdown",
      "metadata": {
        "id": "41AitfhKbsha",
        "colab_type": "text"
      },
      "source": [
        "### Tutors - expected math exam results"
      ]
    },
    {
      "cell_type": "markdown",
      "metadata": {
        "id": "qTdnsVCnbshu",
        "colab_type": "text"
      },
      "source": [
        "## Реализация алгоритма градиентного бустинга"
      ]
    },
    {
      "cell_type": "code",
      "metadata": {
        "id": "FT0J-HMp_Qun",
        "colab_type": "code",
        "colab": {}
      },
      "source": [
        "import pandas as pd \n",
        "import matplotlib.pyplot as plt\n",
        "import numpy as np\n"
      ],
      "execution_count": 0,
      "outputs": []
    },
    {
      "cell_type": "code",
      "metadata": {
        "id": "CP-kzyUc_YHR",
        "colab_type": "code",
        "colab": {}
      },
      "source": [
        "data=pd.read_csv('train.csv', index_col='Id')"
      ],
      "execution_count": 0,
      "outputs": []
    },
    {
      "cell_type": "code",
      "metadata": {
        "id": "jAU0K_bPc-eB",
        "colab_type": "code",
        "colab": {
          "base_uri": "https://localhost:8080/",
          "height": 255
        },
        "outputId": "1bcf0d7a-6878-4d6d-d75b-c11522906fe5"
      },
      "source": [
        "data.head()"
      ],
      "execution_count": 95,
      "outputs": [
        {
          "output_type": "execute_result",
          "data": {
            "text/html": [
              "<div>\n",
              "<style scoped>\n",
              "    .dataframe tbody tr th:only-of-type {\n",
              "        vertical-align: middle;\n",
              "    }\n",
              "\n",
              "    .dataframe tbody tr th {\n",
              "        vertical-align: top;\n",
              "    }\n",
              "\n",
              "    .dataframe thead th {\n",
              "        text-align: right;\n",
              "    }\n",
              "</style>\n",
              "<table border=\"1\" class=\"dataframe\">\n",
              "  <thead>\n",
              "    <tr style=\"text-align: right;\">\n",
              "      <th></th>\n",
              "      <th>age</th>\n",
              "      <th>years_of_experience</th>\n",
              "      <th>lesson_price</th>\n",
              "      <th>qualification</th>\n",
              "      <th>physics</th>\n",
              "      <th>chemistry</th>\n",
              "      <th>biology</th>\n",
              "      <th>english</th>\n",
              "      <th>geography</th>\n",
              "      <th>history</th>\n",
              "      <th>mean_exam_points</th>\n",
              "    </tr>\n",
              "    <tr>\n",
              "      <th>Id</th>\n",
              "      <th></th>\n",
              "      <th></th>\n",
              "      <th></th>\n",
              "      <th></th>\n",
              "      <th></th>\n",
              "      <th></th>\n",
              "      <th></th>\n",
              "      <th></th>\n",
              "      <th></th>\n",
              "      <th></th>\n",
              "      <th></th>\n",
              "    </tr>\n",
              "  </thead>\n",
              "  <tbody>\n",
              "    <tr>\n",
              "      <th>0</th>\n",
              "      <td>40.0</td>\n",
              "      <td>0.0</td>\n",
              "      <td>1400.0</td>\n",
              "      <td>1.0</td>\n",
              "      <td>1.0</td>\n",
              "      <td>0.0</td>\n",
              "      <td>0.0</td>\n",
              "      <td>0.0</td>\n",
              "      <td>1.0</td>\n",
              "      <td>0.0</td>\n",
              "      <td>63.0</td>\n",
              "    </tr>\n",
              "    <tr>\n",
              "      <th>1</th>\n",
              "      <td>48.0</td>\n",
              "      <td>4.0</td>\n",
              "      <td>2850.0</td>\n",
              "      <td>3.0</td>\n",
              "      <td>1.0</td>\n",
              "      <td>0.0</td>\n",
              "      <td>0.0</td>\n",
              "      <td>0.0</td>\n",
              "      <td>0.0</td>\n",
              "      <td>0.0</td>\n",
              "      <td>86.0</td>\n",
              "    </tr>\n",
              "    <tr>\n",
              "      <th>2</th>\n",
              "      <td>39.0</td>\n",
              "      <td>0.0</td>\n",
              "      <td>1200.0</td>\n",
              "      <td>1.0</td>\n",
              "      <td>0.0</td>\n",
              "      <td>0.0</td>\n",
              "      <td>0.0</td>\n",
              "      <td>0.0</td>\n",
              "      <td>0.0</td>\n",
              "      <td>0.0</td>\n",
              "      <td>53.0</td>\n",
              "    </tr>\n",
              "    <tr>\n",
              "      <th>3</th>\n",
              "      <td>46.0</td>\n",
              "      <td>5.0</td>\n",
              "      <td>1400.0</td>\n",
              "      <td>1.0</td>\n",
              "      <td>0.0</td>\n",
              "      <td>0.0</td>\n",
              "      <td>0.0</td>\n",
              "      <td>0.0</td>\n",
              "      <td>0.0</td>\n",
              "      <td>0.0</td>\n",
              "      <td>56.0</td>\n",
              "    </tr>\n",
              "    <tr>\n",
              "      <th>4</th>\n",
              "      <td>43.0</td>\n",
              "      <td>1.0</td>\n",
              "      <td>1500.0</td>\n",
              "      <td>1.0</td>\n",
              "      <td>0.0</td>\n",
              "      <td>0.0</td>\n",
              "      <td>0.0</td>\n",
              "      <td>0.0</td>\n",
              "      <td>0.0</td>\n",
              "      <td>0.0</td>\n",
              "      <td>59.0</td>\n",
              "    </tr>\n",
              "  </tbody>\n",
              "</table>\n",
              "</div>"
            ],
            "text/plain": [
              "     age  years_of_experience  ...  history  mean_exam_points\n",
              "Id                             ...                           \n",
              "0   40.0                  0.0  ...      0.0              63.0\n",
              "1   48.0                  4.0  ...      0.0              86.0\n",
              "2   39.0                  0.0  ...      0.0              53.0\n",
              "3   46.0                  5.0  ...      0.0              56.0\n",
              "4   43.0                  1.0  ...      0.0              59.0\n",
              "\n",
              "[5 rows x 11 columns]"
            ]
          },
          "metadata": {
            "tags": []
          },
          "execution_count": 95
        }
      ]
    },
    {
      "cell_type": "code",
      "metadata": {
        "id": "-09ugXP1eKrv",
        "colab_type": "code",
        "colab": {
          "base_uri": "https://localhost:8080/",
          "height": 317
        },
        "outputId": "823acf5e-594b-427a-ff2e-7d1ffc822f05"
      },
      "source": [
        "data.describe()"
      ],
      "execution_count": 96,
      "outputs": [
        {
          "output_type": "execute_result",
          "data": {
            "text/html": [
              "<div>\n",
              "<style scoped>\n",
              "    .dataframe tbody tr th:only-of-type {\n",
              "        vertical-align: middle;\n",
              "    }\n",
              "\n",
              "    .dataframe tbody tr th {\n",
              "        vertical-align: top;\n",
              "    }\n",
              "\n",
              "    .dataframe thead th {\n",
              "        text-align: right;\n",
              "    }\n",
              "</style>\n",
              "<table border=\"1\" class=\"dataframe\">\n",
              "  <thead>\n",
              "    <tr style=\"text-align: right;\">\n",
              "      <th></th>\n",
              "      <th>age</th>\n",
              "      <th>years_of_experience</th>\n",
              "      <th>lesson_price</th>\n",
              "      <th>qualification</th>\n",
              "      <th>physics</th>\n",
              "      <th>chemistry</th>\n",
              "      <th>biology</th>\n",
              "      <th>english</th>\n",
              "      <th>geography</th>\n",
              "      <th>history</th>\n",
              "      <th>mean_exam_points</th>\n",
              "    </tr>\n",
              "  </thead>\n",
              "  <tbody>\n",
              "    <tr>\n",
              "      <th>count</th>\n",
              "      <td>10000.000000</td>\n",
              "      <td>10000.000000</td>\n",
              "      <td>10000.000000</td>\n",
              "      <td>10000.000000</td>\n",
              "      <td>10000.000000</td>\n",
              "      <td>10000.000000</td>\n",
              "      <td>10000.000000</td>\n",
              "      <td>10000.000000</td>\n",
              "      <td>10000.000000</td>\n",
              "      <td>10000.000000</td>\n",
              "      <td>10000.000000</td>\n",
              "    </tr>\n",
              "    <tr>\n",
              "      <th>mean</th>\n",
              "      <td>45.878000</td>\n",
              "      <td>1.986800</td>\n",
              "      <td>1699.105000</td>\n",
              "      <td>1.719500</td>\n",
              "      <td>0.375000</td>\n",
              "      <td>0.132900</td>\n",
              "      <td>0.109600</td>\n",
              "      <td>0.053700</td>\n",
              "      <td>0.032100</td>\n",
              "      <td>0.019400</td>\n",
              "      <td>64.340800</td>\n",
              "    </tr>\n",
              "    <tr>\n",
              "      <th>std</th>\n",
              "      <td>8.043929</td>\n",
              "      <td>1.772213</td>\n",
              "      <td>524.886654</td>\n",
              "      <td>0.792264</td>\n",
              "      <td>0.484147</td>\n",
              "      <td>0.339484</td>\n",
              "      <td>0.312406</td>\n",
              "      <td>0.225436</td>\n",
              "      <td>0.176274</td>\n",
              "      <td>0.137933</td>\n",
              "      <td>13.536823</td>\n",
              "    </tr>\n",
              "    <tr>\n",
              "      <th>min</th>\n",
              "      <td>23.000000</td>\n",
              "      <td>0.000000</td>\n",
              "      <td>200.000000</td>\n",
              "      <td>1.000000</td>\n",
              "      <td>0.000000</td>\n",
              "      <td>0.000000</td>\n",
              "      <td>0.000000</td>\n",
              "      <td>0.000000</td>\n",
              "      <td>0.000000</td>\n",
              "      <td>0.000000</td>\n",
              "      <td>32.000000</td>\n",
              "    </tr>\n",
              "    <tr>\n",
              "      <th>25%</th>\n",
              "      <td>40.000000</td>\n",
              "      <td>0.000000</td>\n",
              "      <td>1300.000000</td>\n",
              "      <td>1.000000</td>\n",
              "      <td>0.000000</td>\n",
              "      <td>0.000000</td>\n",
              "      <td>0.000000</td>\n",
              "      <td>0.000000</td>\n",
              "      <td>0.000000</td>\n",
              "      <td>0.000000</td>\n",
              "      <td>55.000000</td>\n",
              "    </tr>\n",
              "    <tr>\n",
              "      <th>50%</th>\n",
              "      <td>46.000000</td>\n",
              "      <td>2.000000</td>\n",
              "      <td>1500.000000</td>\n",
              "      <td>2.000000</td>\n",
              "      <td>0.000000</td>\n",
              "      <td>0.000000</td>\n",
              "      <td>0.000000</td>\n",
              "      <td>0.000000</td>\n",
              "      <td>0.000000</td>\n",
              "      <td>0.000000</td>\n",
              "      <td>63.000000</td>\n",
              "    </tr>\n",
              "    <tr>\n",
              "      <th>75%</th>\n",
              "      <td>51.000000</td>\n",
              "      <td>3.000000</td>\n",
              "      <td>2150.000000</td>\n",
              "      <td>2.000000</td>\n",
              "      <td>1.000000</td>\n",
              "      <td>0.000000</td>\n",
              "      <td>0.000000</td>\n",
              "      <td>0.000000</td>\n",
              "      <td>0.000000</td>\n",
              "      <td>0.000000</td>\n",
              "      <td>73.000000</td>\n",
              "    </tr>\n",
              "    <tr>\n",
              "      <th>max</th>\n",
              "      <td>68.000000</td>\n",
              "      <td>10.000000</td>\n",
              "      <td>3950.000000</td>\n",
              "      <td>4.000000</td>\n",
              "      <td>1.000000</td>\n",
              "      <td>1.000000</td>\n",
              "      <td>1.000000</td>\n",
              "      <td>1.000000</td>\n",
              "      <td>1.000000</td>\n",
              "      <td>1.000000</td>\n",
              "      <td>100.000000</td>\n",
              "    </tr>\n",
              "  </tbody>\n",
              "</table>\n",
              "</div>"
            ],
            "text/plain": [
              "                age  years_of_experience  ...       history  mean_exam_points\n",
              "count  10000.000000         10000.000000  ...  10000.000000      10000.000000\n",
              "mean      45.878000             1.986800  ...      0.019400         64.340800\n",
              "std        8.043929             1.772213  ...      0.137933         13.536823\n",
              "min       23.000000             0.000000  ...      0.000000         32.000000\n",
              "25%       40.000000             0.000000  ...      0.000000         55.000000\n",
              "50%       46.000000             2.000000  ...      0.000000         63.000000\n",
              "75%       51.000000             3.000000  ...      0.000000         73.000000\n",
              "max       68.000000            10.000000  ...      1.000000        100.000000\n",
              "\n",
              "[8 rows x 11 columns]"
            ]
          },
          "metadata": {
            "tags": []
          },
          "execution_count": 96
        }
      ]
    },
    {
      "cell_type": "code",
      "metadata": {
        "id": "m2ad8VzikrBw",
        "colab_type": "code",
        "colab": {
          "base_uri": "https://localhost:8080/",
          "height": 353
        },
        "outputId": "994f39c8-a358-44c9-8717-50db200b2af7"
      },
      "source": [
        "#гистограмма средних баллов\n",
        "plt.hist(data['mean_exam_points'])"
      ],
      "execution_count": 97,
      "outputs": [
        {
          "output_type": "execute_result",
          "data": {
            "text/plain": [
              "(array([ 212.,  630., 1031., 1921., 1901., 1677.,  903., 1042.,  610.,\n",
              "          73.]),\n",
              " array([ 32. ,  38.8,  45.6,  52.4,  59.2,  66. ,  72.8,  79.6,  86.4,\n",
              "         93.2, 100. ]),\n",
              " <a list of 10 Patch objects>)"
            ]
          },
          "metadata": {
            "tags": []
          },
          "execution_count": 97
        },
        {
          "output_type": "display_data",
          "data": {
            "image/png": "[encoded data removed]",
            "text/plain": [
              "<Figure size 432x288 with 1 Axes>"
            ]
          },
          "metadata": {
            "tags": []
          }
        }
      ]
    },
    {
      "cell_type": "code",
      "metadata": {
        "id": "R213Ba-Jm8xi",
        "colab_type": "code",
        "colab": {
          "base_uri": "https://localhost:8080/",
          "height": 282
        },
        "outputId": "b72e2538-eeb0-4319-cf03-596a32965397"
      },
      "source": [
        "#разброс баллов в завимости от стоимости занятия\n",
        "plt.scatter(data['lesson_price'], data['mean_exam_points'])"
      ],
      "execution_count": 98,
      "outputs": [
        {
          "output_type": "execute_result",
          "data": {
            "text/plain": [
              "<matplotlib.collections.PathCollection at 0x7f872310e8d0>"
            ]
          },
          "metadata": {
            "tags": []
          },
          "execution_count": 98
        },
        {
          "output_type": "display_data",
          "data": {
            "image/png": "[encoded data removed]",
            "text/plain": [
              "<Figure size 432x288 with 1 Axes>"
            ]
          },
          "metadata": {
            "tags": []
          }
        }
      ]
    },
    {
      "cell_type": "code",
      "metadata": {
        "id": "R1wH0Hc8XOjs",
        "colab_type": "code",
        "colab": {}
      },
      "source": [
        "#разобьем цены за занятия по диапазонам и добавим столбец, объединив квалификацию и диапазон цены\n",
        "def price_range(df):\n",
        "  #df['price_range']=np.ceil(df['lesson_price']/200)*200\n",
        "\n",
        "  #df['qualification_price']=df['qualification'].astype(str)+'_'+df['price_range'].astype(str)\n",
        "  df['qualification_price']=df['qualification'].astype(str)+'_'+df['lesson_price'].astype(str)"
      ],
      "execution_count": 0,
      "outputs": []
    },
    {
      "cell_type": "code",
      "metadata": {
        "id": "OczOlF6NXnVN",
        "colab_type": "code",
        "colab": {
          "base_uri": "https://localhost:8080/",
          "height": 255
        },
        "outputId": "3664d4d9-d3f8-45a4-ccd8-79baf062d374"
      },
      "source": [
        "price_range(data)\n",
        "data.head()"
      ],
      "execution_count": 100,
      "outputs": [
        {
          "output_type": "execute_result",
          "data": {
            "text/html": [
              "<div>\n",
              "<style scoped>\n",
              "    .dataframe tbody tr th:only-of-type {\n",
              "        vertical-align: middle;\n",
              "    }\n",
              "\n",
              "    .dataframe tbody tr th {\n",
              "        vertical-align: top;\n",
              "    }\n",
              "\n",
              "    .dataframe thead th {\n",
              "        text-align: right;\n",
              "    }\n",
              "</style>\n",
              "<table border=\"1\" class=\"dataframe\">\n",
              "  <thead>\n",
              "    <tr style=\"text-align: right;\">\n",
              "      <th></th>\n",
              "      <th>age</th>\n",
              "      <th>years_of_experience</th>\n",
              "      <th>lesson_price</th>\n",
              "      <th>qualification</th>\n",
              "      <th>physics</th>\n",
              "      <th>chemistry</th>\n",
              "      <th>biology</th>\n",
              "      <th>english</th>\n",
              "      <th>geography</th>\n",
              "      <th>history</th>\n",
              "      <th>mean_exam_points</th>\n",
              "      <th>qualification_price</th>\n",
              "    </tr>\n",
              "    <tr>\n",
              "      <th>Id</th>\n",
              "      <th></th>\n",
              "      <th></th>\n",
              "      <th></th>\n",
              "      <th></th>\n",
              "      <th></th>\n",
              "      <th></th>\n",
              "      <th></th>\n",
              "      <th></th>\n",
              "      <th></th>\n",
              "      <th></th>\n",
              "      <th></th>\n",
              "      <th></th>\n",
              "    </tr>\n",
              "  </thead>\n",
              "  <tbody>\n",
              "    <tr>\n",
              "      <th>0</th>\n",
              "      <td>40.0</td>\n",
              "      <td>0.0</td>\n",
              "      <td>1400.0</td>\n",
              "      <td>1.0</td>\n",
              "      <td>1.0</td>\n",
              "      <td>0.0</td>\n",
              "      <td>0.0</td>\n",
              "      <td>0.0</td>\n",
              "      <td>1.0</td>\n",
              "      <td>0.0</td>\n",
              "      <td>63.0</td>\n",
              "      <td>1.0_1400.0</td>\n",
              "    </tr>\n",
              "    <tr>\n",
              "      <th>1</th>\n",
              "      <td>48.0</td>\n",
              "      <td>4.0</td>\n",
              "      <td>2850.0</td>\n",
              "      <td>3.0</td>\n",
              "      <td>1.0</td>\n",
              "      <td>0.0</td>\n",
              "      <td>0.0</td>\n",
              "      <td>0.0</td>\n",
              "      <td>0.0</td>\n",
              "      <td>0.0</td>\n",
              "      <td>86.0</td>\n",
              "      <td>3.0_2850.0</td>\n",
              "    </tr>\n",
              "    <tr>\n",
              "      <th>2</th>\n",
              "      <td>39.0</td>\n",
              "      <td>0.0</td>\n",
              "      <td>1200.0</td>\n",
              "      <td>1.0</td>\n",
              "      <td>0.0</td>\n",
              "      <td>0.0</td>\n",
              "      <td>0.0</td>\n",
              "      <td>0.0</td>\n",
              "      <td>0.0</td>\n",
              "      <td>0.0</td>\n",
              "      <td>53.0</td>\n",
              "      <td>1.0_1200.0</td>\n",
              "    </tr>\n",
              "    <tr>\n",
              "      <th>3</th>\n",
              "      <td>46.0</td>\n",
              "      <td>5.0</td>\n",
              "      <td>1400.0</td>\n",
              "      <td>1.0</td>\n",
              "      <td>0.0</td>\n",
              "      <td>0.0</td>\n",
              "      <td>0.0</td>\n",
              "      <td>0.0</td>\n",
              "      <td>0.0</td>\n",
              "      <td>0.0</td>\n",
              "      <td>56.0</td>\n",
              "      <td>1.0_1400.0</td>\n",
              "    </tr>\n",
              "    <tr>\n",
              "      <th>4</th>\n",
              "      <td>43.0</td>\n",
              "      <td>1.0</td>\n",
              "      <td>1500.0</td>\n",
              "      <td>1.0</td>\n",
              "      <td>0.0</td>\n",
              "      <td>0.0</td>\n",
              "      <td>0.0</td>\n",
              "      <td>0.0</td>\n",
              "      <td>0.0</td>\n",
              "      <td>0.0</td>\n",
              "      <td>59.0</td>\n",
              "      <td>1.0_1500.0</td>\n",
              "    </tr>\n",
              "  </tbody>\n",
              "</table>\n",
              "</div>"
            ],
            "text/plain": [
              "     age  years_of_experience  ...  mean_exam_points  qualification_price\n",
              "Id                             ...                                       \n",
              "0   40.0                  0.0  ...              63.0           1.0_1400.0\n",
              "1   48.0                  4.0  ...              86.0           3.0_2850.0\n",
              "2   39.0                  0.0  ...              53.0           1.0_1200.0\n",
              "3   46.0                  5.0  ...              56.0           1.0_1400.0\n",
              "4   43.0                  1.0  ...              59.0           1.0_1500.0\n",
              "\n",
              "[5 rows x 12 columns]"
            ]
          },
          "metadata": {
            "tags": []
          },
          "execution_count": 100
        }
      ]
    },
    {
      "cell_type": "code",
      "metadata": {
        "id": "NRjeTmUesdou",
        "colab_type": "code",
        "colab": {}
      },
      "source": [
        "#средние баллы в зависимости от квалификации и цены\n",
        "MeanScoreByQualifiacation=data.groupby(['qualification_price'])[['mean_exam_points']].mean()\n"
      ],
      "execution_count": 0,
      "outputs": []
    },
    {
      "cell_type": "code",
      "metadata": {
        "id": "NFmaE8g_3dRN",
        "colab_type": "code",
        "colab": {}
      },
      "source": [
        "MeanScoreByQualifiacation=MeanScoreByQualifiacation.rename(columns={'mean_exam_points': 'mean_score'})"
      ],
      "execution_count": 0,
      "outputs": []
    },
    {
      "cell_type": "code",
      "metadata": {
        "id": "f08Glc404Zfd",
        "colab_type": "code",
        "colab": {
          "base_uri": "https://localhost:8080/",
          "height": 450
        },
        "outputId": "6ae79a31-e67f-4d5e-a5e0-3abaec199811"
      },
      "source": [
        "MeanScoreByQualifiacation"
      ],
      "execution_count": 103,
      "outputs": [
        {
          "output_type": "execute_result",
          "data": {
            "text/html": [
              "<div>\n",
              "<style scoped>\n",
              "    .dataframe tbody tr th:only-of-type {\n",
              "        vertical-align: middle;\n",
              "    }\n",
              "\n",
              "    .dataframe tbody tr th {\n",
              "        vertical-align: top;\n",
              "    }\n",
              "\n",
              "    .dataframe thead th {\n",
              "        text-align: right;\n",
              "    }\n",
              "</style>\n",
              "<table border=\"1\" class=\"dataframe\">\n",
              "  <thead>\n",
              "    <tr style=\"text-align: right;\">\n",
              "      <th></th>\n",
              "      <th>mean_score</th>\n",
              "    </tr>\n",
              "    <tr>\n",
              "      <th>qualification_price</th>\n",
              "      <th></th>\n",
              "    </tr>\n",
              "  </thead>\n",
              "  <tbody>\n",
              "    <tr>\n",
              "      <th>1.0_1000.0</th>\n",
              "      <td>56.965517</td>\n",
              "    </tr>\n",
              "    <tr>\n",
              "      <th>1.0_1050.0</th>\n",
              "      <td>56.589744</td>\n",
              "    </tr>\n",
              "    <tr>\n",
              "      <th>1.0_1100.0</th>\n",
              "      <td>56.536723</td>\n",
              "    </tr>\n",
              "    <tr>\n",
              "      <th>1.0_1150.0</th>\n",
              "      <td>57.002710</td>\n",
              "    </tr>\n",
              "    <tr>\n",
              "      <th>1.0_1200.0</th>\n",
              "      <td>55.582888</td>\n",
              "    </tr>\n",
              "    <tr>\n",
              "      <th>...</th>\n",
              "      <td>...</td>\n",
              "    </tr>\n",
              "    <tr>\n",
              "      <th>4.0_2800.0</th>\n",
              "      <td>81.000000</td>\n",
              "    </tr>\n",
              "    <tr>\n",
              "      <th>4.0_2850.0</th>\n",
              "      <td>85.000000</td>\n",
              "    </tr>\n",
              "    <tr>\n",
              "      <th>4.0_2900.0</th>\n",
              "      <td>87.000000</td>\n",
              "    </tr>\n",
              "    <tr>\n",
              "      <th>4.0_2950.0</th>\n",
              "      <td>83.000000</td>\n",
              "    </tr>\n",
              "    <tr>\n",
              "      <th>4.0_3750.0</th>\n",
              "      <td>93.000000</td>\n",
              "    </tr>\n",
              "  </tbody>\n",
              "</table>\n",
              "<p>183 rows × 1 columns</p>\n",
              "</div>"
            ],
            "text/plain": [
              "                     mean_score\n",
              "qualification_price            \n",
              "1.0_1000.0            56.965517\n",
              "1.0_1050.0            56.589744\n",
              "1.0_1100.0            56.536723\n",
              "1.0_1150.0            57.002710\n",
              "1.0_1200.0            55.582888\n",
              "...                         ...\n",
              "4.0_2800.0            81.000000\n",
              "4.0_2850.0            85.000000\n",
              "4.0_2900.0            87.000000\n",
              "4.0_2950.0            83.000000\n",
              "4.0_3750.0            93.000000\n",
              "\n",
              "[183 rows x 1 columns]"
            ]
          },
          "metadata": {
            "tags": []
          },
          "execution_count": 103
        }
      ]
    },
    {
      "cell_type": "code",
      "metadata": {
        "id": "iABiPO9btgeY",
        "colab_type": "code",
        "colab": {}
      },
      "source": [
        "#добавим столбец со средним балломм в зависимомти от квалификации\n",
        "def MeanScore(df):\n",
        "\n",
        "\n",
        "    df = pd.merge(df, MeanScoreByQualifiacation, on='qualification_price', how='left')\n",
        "\n",
        "    return df"
      ],
      "execution_count": 0,
      "outputs": []
    },
    {
      "cell_type": "code",
      "metadata": {
        "id": "wbZ5dQUqu4sG",
        "colab_type": "code",
        "colab": {}
      },
      "source": [
        "data=MeanScore(data)\n"
      ],
      "execution_count": 0,
      "outputs": []
    },
    {
      "cell_type": "code",
      "metadata": {
        "id": "6On5Fk330L9D",
        "colab_type": "code",
        "colab": {
          "base_uri": "https://localhost:8080/",
          "height": 317
        },
        "outputId": "2bde82a1-9ff6-48ff-c134-1192a0d50c04"
      },
      "source": [
        "data.describe()"
      ],
      "execution_count": 106,
      "outputs": [
        {
          "output_type": "execute_result",
          "data": {
            "text/html": [
              "<div>\n",
              "<style scoped>\n",
              "    .dataframe tbody tr th:only-of-type {\n",
              "        vertical-align: middle;\n",
              "    }\n",
              "\n",
              "    .dataframe tbody tr th {\n",
              "        vertical-align: top;\n",
              "    }\n",
              "\n",
              "    .dataframe thead th {\n",
              "        text-align: right;\n",
              "    }\n",
              "</style>\n",
              "<table border=\"1\" class=\"dataframe\">\n",
              "  <thead>\n",
              "    <tr style=\"text-align: right;\">\n",
              "      <th></th>\n",
              "      <th>age</th>\n",
              "      <th>years_of_experience</th>\n",
              "      <th>lesson_price</th>\n",
              "      <th>qualification</th>\n",
              "      <th>physics</th>\n",
              "      <th>chemistry</th>\n",
              "      <th>biology</th>\n",
              "      <th>english</th>\n",
              "      <th>geography</th>\n",
              "      <th>history</th>\n",
              "      <th>mean_exam_points</th>\n",
              "      <th>mean_score</th>\n",
              "    </tr>\n",
              "  </thead>\n",
              "  <tbody>\n",
              "    <tr>\n",
              "      <th>count</th>\n",
              "      <td>10000.000000</td>\n",
              "      <td>10000.000000</td>\n",
              "      <td>10000.000000</td>\n",
              "      <td>10000.000000</td>\n",
              "      <td>10000.000000</td>\n",
              "      <td>10000.000000</td>\n",
              "      <td>10000.000000</td>\n",
              "      <td>10000.000000</td>\n",
              "      <td>10000.000000</td>\n",
              "      <td>10000.000000</td>\n",
              "      <td>10000.000000</td>\n",
              "      <td>10000.000000</td>\n",
              "    </tr>\n",
              "    <tr>\n",
              "      <th>mean</th>\n",
              "      <td>45.878000</td>\n",
              "      <td>1.986800</td>\n",
              "      <td>1699.105000</td>\n",
              "      <td>1.719500</td>\n",
              "      <td>0.375000</td>\n",
              "      <td>0.132900</td>\n",
              "      <td>0.109600</td>\n",
              "      <td>0.053700</td>\n",
              "      <td>0.032100</td>\n",
              "      <td>0.019400</td>\n",
              "      <td>64.340800</td>\n",
              "      <td>64.340800</td>\n",
              "    </tr>\n",
              "    <tr>\n",
              "      <th>std</th>\n",
              "      <td>8.043929</td>\n",
              "      <td>1.772213</td>\n",
              "      <td>524.886654</td>\n",
              "      <td>0.792264</td>\n",
              "      <td>0.484147</td>\n",
              "      <td>0.339484</td>\n",
              "      <td>0.312406</td>\n",
              "      <td>0.225436</td>\n",
              "      <td>0.176274</td>\n",
              "      <td>0.137933</td>\n",
              "      <td>13.536823</td>\n",
              "      <td>11.534693</td>\n",
              "    </tr>\n",
              "    <tr>\n",
              "      <th>min</th>\n",
              "      <td>23.000000</td>\n",
              "      <td>0.000000</td>\n",
              "      <td>200.000000</td>\n",
              "      <td>1.000000</td>\n",
              "      <td>0.000000</td>\n",
              "      <td>0.000000</td>\n",
              "      <td>0.000000</td>\n",
              "      <td>0.000000</td>\n",
              "      <td>0.000000</td>\n",
              "      <td>0.000000</td>\n",
              "      <td>32.000000</td>\n",
              "      <td>45.000000</td>\n",
              "    </tr>\n",
              "    <tr>\n",
              "      <th>25%</th>\n",
              "      <td>40.000000</td>\n",
              "      <td>0.000000</td>\n",
              "      <td>1300.000000</td>\n",
              "      <td>1.000000</td>\n",
              "      <td>0.000000</td>\n",
              "      <td>0.000000</td>\n",
              "      <td>0.000000</td>\n",
              "      <td>0.000000</td>\n",
              "      <td>0.000000</td>\n",
              "      <td>0.000000</td>\n",
              "      <td>55.000000</td>\n",
              "      <td>56.589744</td>\n",
              "    </tr>\n",
              "    <tr>\n",
              "      <th>50%</th>\n",
              "      <td>46.000000</td>\n",
              "      <td>2.000000</td>\n",
              "      <td>1500.000000</td>\n",
              "      <td>2.000000</td>\n",
              "      <td>0.000000</td>\n",
              "      <td>0.000000</td>\n",
              "      <td>0.000000</td>\n",
              "      <td>0.000000</td>\n",
              "      <td>0.000000</td>\n",
              "      <td>0.000000</td>\n",
              "      <td>63.000000</td>\n",
              "      <td>60.584746</td>\n",
              "    </tr>\n",
              "    <tr>\n",
              "      <th>75%</th>\n",
              "      <td>51.000000</td>\n",
              "      <td>3.000000</td>\n",
              "      <td>2150.000000</td>\n",
              "      <td>2.000000</td>\n",
              "      <td>1.000000</td>\n",
              "      <td>0.000000</td>\n",
              "      <td>0.000000</td>\n",
              "      <td>0.000000</td>\n",
              "      <td>0.000000</td>\n",
              "      <td>0.000000</td>\n",
              "      <td>73.000000</td>\n",
              "      <td>71.906780</td>\n",
              "    </tr>\n",
              "    <tr>\n",
              "      <th>max</th>\n",
              "      <td>68.000000</td>\n",
              "      <td>10.000000</td>\n",
              "      <td>3950.000000</td>\n",
              "      <td>4.000000</td>\n",
              "      <td>1.000000</td>\n",
              "      <td>1.000000</td>\n",
              "      <td>1.000000</td>\n",
              "      <td>1.000000</td>\n",
              "      <td>1.000000</td>\n",
              "      <td>1.000000</td>\n",
              "      <td>100.000000</td>\n",
              "      <td>93.000000</td>\n",
              "    </tr>\n",
              "  </tbody>\n",
              "</table>\n",
              "</div>"
            ],
            "text/plain": [
              "                age  years_of_experience  ...  mean_exam_points    mean_score\n",
              "count  10000.000000         10000.000000  ...      10000.000000  10000.000000\n",
              "mean      45.878000             1.986800  ...         64.340800     64.340800\n",
              "std        8.043929             1.772213  ...         13.536823     11.534693\n",
              "min       23.000000             0.000000  ...         32.000000     45.000000\n",
              "25%       40.000000             0.000000  ...         55.000000     56.589744\n",
              "50%       46.000000             2.000000  ...         63.000000     60.584746\n",
              "75%       51.000000             3.000000  ...         73.000000     71.906780\n",
              "max       68.000000            10.000000  ...        100.000000     93.000000\n",
              "\n",
              "[8 rows x 12 columns]"
            ]
          },
          "metadata": {
            "tags": []
          },
          "execution_count": 106
        }
      ]
    },
    {
      "cell_type": "code",
      "metadata": {
        "id": "vC4V534QIX2y",
        "colab_type": "code",
        "colab": {
          "base_uri": "https://localhost:8080/",
          "height": 238
        },
        "outputId": "9c9a2068-c017-4caf-ae2a-d46321960d17"
      },
      "source": [
        "data_corr=data.corr()\n",
        "print(data_corr['mean_exam_points'].sort_values(ascending=False))"
      ],
      "execution_count": 107,
      "outputs": [
        {
          "output_type": "stream",
          "text": [
            "mean_exam_points       1.000000\n",
            "mean_score             0.852097\n",
            "qualification          0.755963\n",
            "lesson_price           0.721179\n",
            "years_of_experience    0.205417\n",
            "physics                0.187726\n",
            "biology                0.023022\n",
            "chemistry              0.017825\n",
            "geography              0.014401\n",
            "english                0.013174\n",
            "history               -0.000113\n",
            "age                   -0.007646\n",
            "Name: mean_exam_points, dtype: float64\n"
          ],
          "name": "stdout"
        }
      ]
    },
    {
      "cell_type": "code",
      "metadata": {
        "id": "KqiVNbxR4ykR",
        "colab_type": "code",
        "colab": {
          "base_uri": "https://localhost:8080/",
          "height": 85
        },
        "outputId": "1028a2b0-5807-4011-d9d3-23b8f9dd7b59"
      },
      "source": [
        "data.columns"
      ],
      "execution_count": 108,
      "outputs": [
        {
          "output_type": "execute_result",
          "data": {
            "text/plain": [
              "Index(['age', 'years_of_experience', 'lesson_price', 'qualification',\n",
              "       'physics', 'chemistry', 'biology', 'english', 'geography', 'history',\n",
              "       'mean_exam_points', 'qualification_price', 'mean_score'],\n",
              "      dtype='object')"
            ]
          },
          "metadata": {
            "tags": []
          },
          "execution_count": 108
        }
      ]
    },
    {
      "cell_type": "code",
      "metadata": {
        "id": "pqE3pqcteRGW",
        "colab_type": "code",
        "colab": {}
      },
      "source": [
        "#для анализа возьмем значимые столбцы\n",
        "X=data[['years_of_experience', 'lesson_price', 'qualification',\n",
        "       'physics', 'mean_score']]\n"
      ],
      "execution_count": 0,
      "outputs": []
    },
    {
      "cell_type": "code",
      "metadata": {
        "id": "jJnlxQA5edZH",
        "colab_type": "code",
        "colab": {
          "base_uri": "https://localhost:8080/",
          "height": 204
        },
        "outputId": "84fa9e18-d4f2-4aba-bf2f-e549258f94a2"
      },
      "source": [
        "X.head()"
      ],
      "execution_count": 110,
      "outputs": [
        {
          "output_type": "execute_result",
          "data": {
            "text/html": [
              "<div>\n",
              "<style scoped>\n",
              "    .dataframe tbody tr th:only-of-type {\n",
              "        vertical-align: middle;\n",
              "    }\n",
              "\n",
              "    .dataframe tbody tr th {\n",
              "        vertical-align: top;\n",
              "    }\n",
              "\n",
              "    .dataframe thead th {\n",
              "        text-align: right;\n",
              "    }\n",
              "</style>\n",
              "<table border=\"1\" class=\"dataframe\">\n",
              "  <thead>\n",
              "    <tr style=\"text-align: right;\">\n",
              "      <th></th>\n",
              "      <th>years_of_experience</th>\n",
              "      <th>lesson_price</th>\n",
              "      <th>qualification</th>\n",
              "      <th>physics</th>\n",
              "      <th>mean_score</th>\n",
              "    </tr>\n",
              "  </thead>\n",
              "  <tbody>\n",
              "    <tr>\n",
              "      <th>0</th>\n",
              "      <td>0.0</td>\n",
              "      <td>1400.0</td>\n",
              "      <td>1.0</td>\n",
              "      <td>1.0</td>\n",
              "      <td>59.087591</td>\n",
              "    </tr>\n",
              "    <tr>\n",
              "      <th>1</th>\n",
              "      <td>4.0</td>\n",
              "      <td>2850.0</td>\n",
              "      <td>3.0</td>\n",
              "      <td>1.0</td>\n",
              "      <td>86.525000</td>\n",
              "    </tr>\n",
              "    <tr>\n",
              "      <th>2</th>\n",
              "      <td>0.0</td>\n",
              "      <td>1200.0</td>\n",
              "      <td>1.0</td>\n",
              "      <td>0.0</td>\n",
              "      <td>55.582888</td>\n",
              "    </tr>\n",
              "    <tr>\n",
              "      <th>3</th>\n",
              "      <td>5.0</td>\n",
              "      <td>1400.0</td>\n",
              "      <td>1.0</td>\n",
              "      <td>0.0</td>\n",
              "      <td>59.087591</td>\n",
              "    </tr>\n",
              "    <tr>\n",
              "      <th>4</th>\n",
              "      <td>1.0</td>\n",
              "      <td>1500.0</td>\n",
              "      <td>1.0</td>\n",
              "      <td>0.0</td>\n",
              "      <td>48.899510</td>\n",
              "    </tr>\n",
              "  </tbody>\n",
              "</table>\n",
              "</div>"
            ],
            "text/plain": [
              "   years_of_experience  lesson_price  qualification  physics  mean_score\n",
              "0                  0.0        1400.0            1.0      1.0   59.087591\n",
              "1                  4.0        2850.0            3.0      1.0   86.525000\n",
              "2                  0.0        1200.0            1.0      0.0   55.582888\n",
              "3                  5.0        1400.0            1.0      0.0   59.087591\n",
              "4                  1.0        1500.0            1.0      0.0   48.899510"
            ]
          },
          "metadata": {
            "tags": []
          },
          "execution_count": 110
        }
      ]
    },
    {
      "cell_type": "code",
      "metadata": {
        "id": "uHt9VOXzeW8f",
        "colab_type": "code",
        "colab": {}
      },
      "source": [
        "y=data['mean_exam_points']"
      ],
      "execution_count": 0,
      "outputs": []
    },
    {
      "cell_type": "code",
      "metadata": {
        "id": "9jmJkk3tdS7p",
        "colab_type": "code",
        "colab": {
          "base_uri": "https://localhost:8080/",
          "height": 235
        },
        "outputId": "66d0538d-b225-438b-a390-a3f0fe207b3f"
      },
      "source": [
        "X_predict=pd.read_csv('test.csv', index_col='Id')\n",
        "X_predict.head()\n"
      ],
      "execution_count": 112,
      "outputs": [
        {
          "output_type": "execute_result",
          "data": {
            "text/html": [
              "<div>\n",
              "<style scoped>\n",
              "    .dataframe tbody tr th:only-of-type {\n",
              "        vertical-align: middle;\n",
              "    }\n",
              "\n",
              "    .dataframe tbody tr th {\n",
              "        vertical-align: top;\n",
              "    }\n",
              "\n",
              "    .dataframe thead th {\n",
              "        text-align: right;\n",
              "    }\n",
              "</style>\n",
              "<table border=\"1\" class=\"dataframe\">\n",
              "  <thead>\n",
              "    <tr style=\"text-align: right;\">\n",
              "      <th></th>\n",
              "      <th>age</th>\n",
              "      <th>years_of_experience</th>\n",
              "      <th>lesson_price</th>\n",
              "      <th>qualification</th>\n",
              "      <th>physics</th>\n",
              "      <th>chemistry</th>\n",
              "      <th>biology</th>\n",
              "      <th>english</th>\n",
              "      <th>geography</th>\n",
              "      <th>history</th>\n",
              "    </tr>\n",
              "    <tr>\n",
              "      <th>Id</th>\n",
              "      <th></th>\n",
              "      <th></th>\n",
              "      <th></th>\n",
              "      <th></th>\n",
              "      <th></th>\n",
              "      <th></th>\n",
              "      <th></th>\n",
              "      <th></th>\n",
              "      <th></th>\n",
              "      <th></th>\n",
              "    </tr>\n",
              "  </thead>\n",
              "  <tbody>\n",
              "    <tr>\n",
              "      <th>10000</th>\n",
              "      <td>46.0</td>\n",
              "      <td>3.0</td>\n",
              "      <td>1050.0</td>\n",
              "      <td>1.0</td>\n",
              "      <td>0.0</td>\n",
              "      <td>1.0</td>\n",
              "      <td>0.0</td>\n",
              "      <td>0.0</td>\n",
              "      <td>0.0</td>\n",
              "      <td>0.0</td>\n",
              "    </tr>\n",
              "    <tr>\n",
              "      <th>10001</th>\n",
              "      <td>43.0</td>\n",
              "      <td>3.0</td>\n",
              "      <td>1850.0</td>\n",
              "      <td>2.0</td>\n",
              "      <td>0.0</td>\n",
              "      <td>0.0</td>\n",
              "      <td>0.0</td>\n",
              "      <td>0.0</td>\n",
              "      <td>0.0</td>\n",
              "      <td>0.0</td>\n",
              "    </tr>\n",
              "    <tr>\n",
              "      <th>10002</th>\n",
              "      <td>52.0</td>\n",
              "      <td>1.0</td>\n",
              "      <td>1550.0</td>\n",
              "      <td>1.0</td>\n",
              "      <td>1.0</td>\n",
              "      <td>0.0</td>\n",
              "      <td>0.0</td>\n",
              "      <td>0.0</td>\n",
              "      <td>0.0</td>\n",
              "      <td>0.0</td>\n",
              "    </tr>\n",
              "    <tr>\n",
              "      <th>10003</th>\n",
              "      <td>57.0</td>\n",
              "      <td>6.0</td>\n",
              "      <td>2900.0</td>\n",
              "      <td>3.0</td>\n",
              "      <td>1.0</td>\n",
              "      <td>0.0</td>\n",
              "      <td>1.0</td>\n",
              "      <td>0.0</td>\n",
              "      <td>0.0</td>\n",
              "      <td>0.0</td>\n",
              "    </tr>\n",
              "    <tr>\n",
              "      <th>10004</th>\n",
              "      <td>44.0</td>\n",
              "      <td>4.0</td>\n",
              "      <td>3150.0</td>\n",
              "      <td>3.0</td>\n",
              "      <td>1.0</td>\n",
              "      <td>0.0</td>\n",
              "      <td>0.0</td>\n",
              "      <td>0.0</td>\n",
              "      <td>0.0</td>\n",
              "      <td>0.0</td>\n",
              "    </tr>\n",
              "  </tbody>\n",
              "</table>\n",
              "</div>"
            ],
            "text/plain": [
              "        age  years_of_experience  lesson_price  ...  english  geography  history\n",
              "Id                                              ...                             \n",
              "10000  46.0                  3.0        1050.0  ...      0.0        0.0      0.0\n",
              "10001  43.0                  3.0        1850.0  ...      0.0        0.0      0.0\n",
              "10002  52.0                  1.0        1550.0  ...      0.0        0.0      0.0\n",
              "10003  57.0                  6.0        2900.0  ...      0.0        0.0      0.0\n",
              "10004  44.0                  4.0        3150.0  ...      0.0        0.0      0.0\n",
              "\n",
              "[5 rows x 10 columns]"
            ]
          },
          "metadata": {
            "tags": []
          },
          "execution_count": 112
        }
      ]
    },
    {
      "cell_type": "code",
      "metadata": {
        "id": "pP_rLectpbIq",
        "colab_type": "code",
        "colab": {
          "base_uri": "https://localhost:8080/",
          "height": 119
        },
        "outputId": "581d3b26-04fd-41cc-b23d-6798b33b8116"
      },
      "source": [
        "pred_id=X_predict.index\n",
        "pred_id"
      ],
      "execution_count": 113,
      "outputs": [
        {
          "output_type": "execute_result",
          "data": {
            "text/plain": [
              "Int64Index([10000, 10001, 10002, 10003, 10004, 10005, 10006, 10007, 10008,\n",
              "            10009,\n",
              "            ...\n",
              "            19990, 19991, 19992, 19993, 19994, 19995, 19996, 19997, 19998,\n",
              "            19999],\n",
              "           dtype='int64', name='Id', length=10000)"
            ]
          },
          "metadata": {
            "tags": []
          },
          "execution_count": 113
        }
      ]
    },
    {
      "cell_type": "code",
      "metadata": {
        "id": "pQvmRY5TvNCg",
        "colab_type": "code",
        "colab": {
          "base_uri": "https://localhost:8080/",
          "height": 224
        },
        "outputId": "0e0213a0-ea68-44f7-891e-3488ed3884f9"
      },
      "source": [
        "#подготовим данные, по которым будем делать предсказания\n",
        "price_range(X_predict)\n",
        "X_predict=MeanScore(X_predict)\n",
        "X_predict.head()"
      ],
      "execution_count": 114,
      "outputs": [
        {
          "output_type": "execute_result",
          "data": {
            "text/html": [
              "<div>\n",
              "<style scoped>\n",
              "    .dataframe tbody tr th:only-of-type {\n",
              "        vertical-align: middle;\n",
              "    }\n",
              "\n",
              "    .dataframe tbody tr th {\n",
              "        vertical-align: top;\n",
              "    }\n",
              "\n",
              "    .dataframe thead th {\n",
              "        text-align: right;\n",
              "    }\n",
              "</style>\n",
              "<table border=\"1\" class=\"dataframe\">\n",
              "  <thead>\n",
              "    <tr style=\"text-align: right;\">\n",
              "      <th></th>\n",
              "      <th>age</th>\n",
              "      <th>years_of_experience</th>\n",
              "      <th>lesson_price</th>\n",
              "      <th>qualification</th>\n",
              "      <th>physics</th>\n",
              "      <th>chemistry</th>\n",
              "      <th>biology</th>\n",
              "      <th>english</th>\n",
              "      <th>geography</th>\n",
              "      <th>history</th>\n",
              "      <th>qualification_price</th>\n",
              "      <th>mean_score</th>\n",
              "    </tr>\n",
              "  </thead>\n",
              "  <tbody>\n",
              "    <tr>\n",
              "      <th>0</th>\n",
              "      <td>46.0</td>\n",
              "      <td>3.0</td>\n",
              "      <td>1050.0</td>\n",
              "      <td>1.0</td>\n",
              "      <td>0.0</td>\n",
              "      <td>1.0</td>\n",
              "      <td>0.0</td>\n",
              "      <td>0.0</td>\n",
              "      <td>0.0</td>\n",
              "      <td>0.0</td>\n",
              "      <td>1.0_1050.0</td>\n",
              "      <td>56.589744</td>\n",
              "    </tr>\n",
              "    <tr>\n",
              "      <th>1</th>\n",
              "      <td>43.0</td>\n",
              "      <td>3.0</td>\n",
              "      <td>1850.0</td>\n",
              "      <td>2.0</td>\n",
              "      <td>0.0</td>\n",
              "      <td>0.0</td>\n",
              "      <td>0.0</td>\n",
              "      <td>0.0</td>\n",
              "      <td>0.0</td>\n",
              "      <td>0.0</td>\n",
              "      <td>2.0_1850.0</td>\n",
              "      <td>65.459459</td>\n",
              "    </tr>\n",
              "    <tr>\n",
              "      <th>2</th>\n",
              "      <td>52.0</td>\n",
              "      <td>1.0</td>\n",
              "      <td>1550.0</td>\n",
              "      <td>1.0</td>\n",
              "      <td>1.0</td>\n",
              "      <td>0.0</td>\n",
              "      <td>0.0</td>\n",
              "      <td>0.0</td>\n",
              "      <td>0.0</td>\n",
              "      <td>0.0</td>\n",
              "      <td>1.0_1550.0</td>\n",
              "      <td>46.772575</td>\n",
              "    </tr>\n",
              "    <tr>\n",
              "      <th>3</th>\n",
              "      <td>57.0</td>\n",
              "      <td>6.0</td>\n",
              "      <td>2900.0</td>\n",
              "      <td>3.0</td>\n",
              "      <td>1.0</td>\n",
              "      <td>0.0</td>\n",
              "      <td>1.0</td>\n",
              "      <td>0.0</td>\n",
              "      <td>0.0</td>\n",
              "      <td>0.0</td>\n",
              "      <td>3.0_2900.0</td>\n",
              "      <td>87.543478</td>\n",
              "    </tr>\n",
              "    <tr>\n",
              "      <th>4</th>\n",
              "      <td>44.0</td>\n",
              "      <td>4.0</td>\n",
              "      <td>3150.0</td>\n",
              "      <td>3.0</td>\n",
              "      <td>1.0</td>\n",
              "      <td>0.0</td>\n",
              "      <td>0.0</td>\n",
              "      <td>0.0</td>\n",
              "      <td>0.0</td>\n",
              "      <td>0.0</td>\n",
              "      <td>3.0_3150.0</td>\n",
              "      <td>86.789474</td>\n",
              "    </tr>\n",
              "  </tbody>\n",
              "</table>\n",
              "</div>"
            ],
            "text/plain": [
              "    age  years_of_experience  ...  qualification_price  mean_score\n",
              "0  46.0                  3.0  ...           1.0_1050.0   56.589744\n",
              "1  43.0                  3.0  ...           2.0_1850.0   65.459459\n",
              "2  52.0                  1.0  ...           1.0_1550.0   46.772575\n",
              "3  57.0                  6.0  ...           3.0_2900.0   87.543478\n",
              "4  44.0                  4.0  ...           3.0_3150.0   86.789474\n",
              "\n",
              "[5 rows x 12 columns]"
            ]
          },
          "metadata": {
            "tags": []
          },
          "execution_count": 114
        }
      ]
    },
    {
      "cell_type": "code",
      "metadata": {
        "id": "XG0rel2DNThP",
        "colab_type": "code",
        "colab": {}
      },
      "source": [
        "X_predict=X_predict[['years_of_experience', 'lesson_price', 'qualification',\n",
        "       'physics', 'mean_score']]\n"
      ],
      "execution_count": 0,
      "outputs": []
    },
    {
      "cell_type": "code",
      "metadata": {
        "id": "o_YFgm9F5ij8",
        "colab_type": "code",
        "colab": {}
      },
      "source": [
        ""
      ],
      "execution_count": 0,
      "outputs": []
    },
    {
      "cell_type": "code",
      "metadata": {
        "id": "_1X_vBPkmcSJ",
        "colab_type": "code",
        "colab": {}
      },
      "source": [
        "def data_normalize(df):\n",
        "  for feature in df.columns:\n",
        "    df[feature]=abs(df[feature])/(max(df[feature])-min(df[feature]))\n",
        "\n"
      ],
      "execution_count": 0,
      "outputs": []
    },
    {
      "cell_type": "code",
      "metadata": {
        "id": "bn4lMKdXYJaD",
        "colab_type": "code",
        "colab": {}
      },
      "source": [
        "def data_std(df):\n",
        "  for feature in df.columns:\n",
        "    df[feature]=(df[feature]-df[feature].mean())/df[feature].std()\n",
        "\n",
        "  "
      ],
      "execution_count": 0,
      "outputs": []
    },
    {
      "cell_type": "code",
      "metadata": {
        "id": "4I_p5z9lm-IL",
        "colab_type": "code",
        "colab": {
          "base_uri": "https://localhost:8080/",
          "height": 139
        },
        "outputId": "efae1840-7c57-479e-8fcb-7288eaec820c"
      },
      "source": [
        "#отмасштабируем\n",
        "data_std(X)\n",
        "data_std(X_predict)\n",
        "\n",
        "# data_normalize(X)\n",
        "# data_normalize(X_predict)"
      ],
      "execution_count": 118,
      "outputs": [
        {
          "output_type": "stream",
          "text": [
            "/usr/local/lib/python3.6/dist-packages/ipykernel_launcher.py:3: SettingWithCopyWarning: \n",
            "A value is trying to be set on a copy of a slice from a DataFrame.\n",
            "Try using .loc[row_indexer,col_indexer] = value instead\n",
            "\n",
            "See the caveats in the documentation: http://pandas.pydata.org/pandas-docs/stable/user_guide/indexing.html#returning-a-view-versus-a-copy\n",
            "  This is separate from the ipykernel package so we can avoid doing imports until\n"
          ],
          "name": "stderr"
        }
      ]
    },
    {
      "cell_type": "code",
      "metadata": {
        "id": "u3eGHZcIjPtI",
        "colab_type": "code",
        "colab": {
          "base_uri": "https://localhost:8080/",
          "height": 204
        },
        "outputId": "5c2c4297-cf09-416e-a076-8ce0929e0173"
      },
      "source": [
        "\n",
        "X.head()\n"
      ],
      "execution_count": 119,
      "outputs": [
        {
          "output_type": "execute_result",
          "data": {
            "text/html": [
              "<div>\n",
              "<style scoped>\n",
              "    .dataframe tbody tr th:only-of-type {\n",
              "        vertical-align: middle;\n",
              "    }\n",
              "\n",
              "    .dataframe tbody tr th {\n",
              "        vertical-align: top;\n",
              "    }\n",
              "\n",
              "    .dataframe thead th {\n",
              "        text-align: right;\n",
              "    }\n",
              "</style>\n",
              "<table border=\"1\" class=\"dataframe\">\n",
              "  <thead>\n",
              "    <tr style=\"text-align: right;\">\n",
              "      <th></th>\n",
              "      <th>years_of_experience</th>\n",
              "      <th>lesson_price</th>\n",
              "      <th>qualification</th>\n",
              "      <th>physics</th>\n",
              "      <th>mean_score</th>\n",
              "    </tr>\n",
              "  </thead>\n",
              "  <tbody>\n",
              "    <tr>\n",
              "      <th>0</th>\n",
              "      <td>-1.121084</td>\n",
              "      <td>-0.569847</td>\n",
              "      <td>-0.908157</td>\n",
              "      <td>1.290930</td>\n",
              "      <td>-0.455427</td>\n",
              "    </tr>\n",
              "    <tr>\n",
              "      <th>1</th>\n",
              "      <td>1.135981</td>\n",
              "      <td>2.192654</td>\n",
              "      <td>1.616254</td>\n",
              "      <td>1.290930</td>\n",
              "      <td>1.923259</td>\n",
              "    </tr>\n",
              "    <tr>\n",
              "      <th>2</th>\n",
              "      <td>-1.121084</td>\n",
              "      <td>-0.950881</td>\n",
              "      <td>-0.908157</td>\n",
              "      <td>-0.774558</td>\n",
              "      <td>-0.759267</td>\n",
              "    </tr>\n",
              "    <tr>\n",
              "      <th>3</th>\n",
              "      <td>1.700247</td>\n",
              "      <td>-0.569847</td>\n",
              "      <td>-0.908157</td>\n",
              "      <td>-0.774558</td>\n",
              "      <td>-0.455427</td>\n",
              "    </tr>\n",
              "    <tr>\n",
              "      <th>4</th>\n",
              "      <td>-0.556818</td>\n",
              "      <td>-0.379330</td>\n",
              "      <td>-0.908157</td>\n",
              "      <td>-0.774558</td>\n",
              "      <td>-1.338682</td>\n",
              "    </tr>\n",
              "  </tbody>\n",
              "</table>\n",
              "</div>"
            ],
            "text/plain": [
              "   years_of_experience  lesson_price  qualification   physics  mean_score\n",
              "0            -1.121084     -0.569847      -0.908157  1.290930   -0.455427\n",
              "1             1.135981      2.192654       1.616254  1.290930    1.923259\n",
              "2            -1.121084     -0.950881      -0.908157 -0.774558   -0.759267\n",
              "3             1.700247     -0.569847      -0.908157 -0.774558   -0.455427\n",
              "4            -0.556818     -0.379330      -0.908157 -0.774558   -1.338682"
            ]
          },
          "metadata": {
            "tags": []
          },
          "execution_count": 119
        }
      ]
    },
    {
      "cell_type": "code",
      "metadata": {
        "id": "hb9nvq3BnLGj",
        "colab_type": "code",
        "colab": {
          "base_uri": "https://localhost:8080/",
          "height": 297
        },
        "outputId": "c2e007bf-fd64-4e3f-9733-165fc3c6a12a"
      },
      "source": [
        "X.describe()"
      ],
      "execution_count": 120,
      "outputs": [
        {
          "output_type": "execute_result",
          "data": {
            "text/html": [
              "<div>\n",
              "<style scoped>\n",
              "    .dataframe tbody tr th:only-of-type {\n",
              "        vertical-align: middle;\n",
              "    }\n",
              "\n",
              "    .dataframe tbody tr th {\n",
              "        vertical-align: top;\n",
              "    }\n",
              "\n",
              "    .dataframe thead th {\n",
              "        text-align: right;\n",
              "    }\n",
              "</style>\n",
              "<table border=\"1\" class=\"dataframe\">\n",
              "  <thead>\n",
              "    <tr style=\"text-align: right;\">\n",
              "      <th></th>\n",
              "      <th>years_of_experience</th>\n",
              "      <th>lesson_price</th>\n",
              "      <th>qualification</th>\n",
              "      <th>physics</th>\n",
              "      <th>mean_score</th>\n",
              "    </tr>\n",
              "  </thead>\n",
              "  <tbody>\n",
              "    <tr>\n",
              "      <th>count</th>\n",
              "      <td>1.000000e+04</td>\n",
              "      <td>1.000000e+04</td>\n",
              "      <td>1.000000e+04</td>\n",
              "      <td>1.000000e+04</td>\n",
              "      <td>1.000000e+04</td>\n",
              "    </tr>\n",
              "    <tr>\n",
              "      <th>mean</th>\n",
              "      <td>-2.819966e-17</td>\n",
              "      <td>-5.198619e-17</td>\n",
              "      <td>-5.876410e-16</td>\n",
              "      <td>-3.176792e-16</td>\n",
              "      <td>-6.545279e-14</td>\n",
              "    </tr>\n",
              "    <tr>\n",
              "      <th>std</th>\n",
              "      <td>1.000000e+00</td>\n",
              "      <td>1.000000e+00</td>\n",
              "      <td>1.000000e+00</td>\n",
              "      <td>1.000000e+00</td>\n",
              "      <td>1.000000e+00</td>\n",
              "    </tr>\n",
              "    <tr>\n",
              "      <th>min</th>\n",
              "      <td>-1.121084e+00</td>\n",
              "      <td>-2.856055e+00</td>\n",
              "      <td>-9.081567e-01</td>\n",
              "      <td>-7.745579e-01</td>\n",
              "      <td>-1.676750e+00</td>\n",
              "    </tr>\n",
              "    <tr>\n",
              "      <th>25%</th>\n",
              "      <td>-1.121084e+00</td>\n",
              "      <td>-7.603642e-01</td>\n",
              "      <td>-9.081567e-01</td>\n",
              "      <td>-7.745579e-01</td>\n",
              "      <td>-6.719777e-01</td>\n",
              "    </tr>\n",
              "    <tr>\n",
              "      <th>50%</th>\n",
              "      <td>7.448314e-03</td>\n",
              "      <td>-3.793295e-01</td>\n",
              "      <td>3.540486e-01</td>\n",
              "      <td>-7.745579e-01</td>\n",
              "      <td>-3.256311e-01</td>\n",
              "    </tr>\n",
              "    <tr>\n",
              "      <th>75%</th>\n",
              "      <td>5.717145e-01</td>\n",
              "      <td>8.590331e-01</td>\n",
              "      <td>3.540486e-01</td>\n",
              "      <td>1.290930e+00</td>\n",
              "      <td>6.559325e-01</td>\n",
              "    </tr>\n",
              "    <tr>\n",
              "      <th>max</th>\n",
              "      <td>4.521578e+00</td>\n",
              "      <td>4.288345e+00</td>\n",
              "      <td>2.878459e+00</td>\n",
              "      <td>1.290930e+00</td>\n",
              "      <td>2.484609e+00</td>\n",
              "    </tr>\n",
              "  </tbody>\n",
              "</table>\n",
              "</div>"
            ],
            "text/plain": [
              "       years_of_experience  lesson_price  ...       physics    mean_score\n",
              "count         1.000000e+04  1.000000e+04  ...  1.000000e+04  1.000000e+04\n",
              "mean         -2.819966e-17 -5.198619e-17  ... -3.176792e-16 -6.545279e-14\n",
              "std           1.000000e+00  1.000000e+00  ...  1.000000e+00  1.000000e+00\n",
              "min          -1.121084e+00 -2.856055e+00  ... -7.745579e-01 -1.676750e+00\n",
              "25%          -1.121084e+00 -7.603642e-01  ... -7.745579e-01 -6.719777e-01\n",
              "50%           7.448314e-03 -3.793295e-01  ... -7.745579e-01 -3.256311e-01\n",
              "75%           5.717145e-01  8.590331e-01  ...  1.290930e+00  6.559325e-01\n",
              "max           4.521578e+00  4.288345e+00  ...  1.290930e+00  2.484609e+00\n",
              "\n",
              "[8 rows x 5 columns]"
            ]
          },
          "metadata": {
            "tags": []
          },
          "execution_count": 120
        }
      ]
    },
    {
      "cell_type": "markdown",
      "metadata": {
        "id": "0ll5qHP2bshv",
        "colab_type": "text"
      },
      "source": [
        "Реализуем средствами Python алгоритм градиентного бустинга для деревьев решений."
      ]
    },
    {
      "cell_type": "code",
      "metadata": {
        "id": "Qk-74OFhbshx",
        "colab_type": "code",
        "colab": {}
      },
      "source": [
        "#from sklearn.tree import DecisionTreeRegressor\n",
        "\n",
        "from sklearn import model_selection\n",
        "import numpy as np"
      ],
      "execution_count": 0,
      "outputs": []
    },
    {
      "cell_type": "code",
      "metadata": {
        "id": "mTcP0b9kRvCZ",
        "colab_type": "code",
        "colab": {}
      },
      "source": [
        "X_array=X.to_numpy()\n",
        "y_array=y.to_numpy()"
      ],
      "execution_count": 0,
      "outputs": []
    },
    {
      "cell_type": "markdown",
      "metadata": {
        "id": "cz_JhiIpbsh8",
        "colab_type": "text"
      },
      "source": [
        "Разделим выборку на обучающую и тестовую в соотношении 70/30."
      ]
    },
    {
      "cell_type": "code",
      "metadata": {
        "id": "ExZPR9FLbsh9",
        "colab_type": "code",
        "colab": {}
      },
      "source": [
        "X_train, X_test, y_train, y_test = model_selection.train_test_split(X_array, y_array, test_size=0.3)"
      ],
      "execution_count": 0,
      "outputs": []
    },
    {
      "cell_type": "code",
      "metadata": {
        "id": "gXy5jwTFJy9d",
        "colab_type": "code",
        "colab": {
          "base_uri": "https://localhost:8080/",
          "height": 34
        },
        "outputId": "6547ed23-e994-4d74-e098-01b0e1887bbe"
      },
      "source": [
        "len(y_train)"
      ],
      "execution_count": 124,
      "outputs": [
        {
          "output_type": "execute_result",
          "data": {
            "text/plain": [
              "7000"
            ]
          },
          "metadata": {
            "tags": []
          },
          "execution_count": 124
        }
      ]
    },
    {
      "cell_type": "code",
      "metadata": {
        "id": "-7aO1R9kQLr2",
        "colab_type": "code",
        "colab": {
          "base_uri": "https://localhost:8080/",
          "height": 34
        },
        "outputId": "c1a436e5-21d4-4bbe-e97b-7965d5de114c"
      },
      "source": [
        "X_train.shape, y_train.shape"
      ],
      "execution_count": 125,
      "outputs": [
        {
          "output_type": "execute_result",
          "data": {
            "text/plain": [
              "((7000, 5), (7000,))"
            ]
          },
          "metadata": {
            "tags": []
          },
          "execution_count": 125
        }
      ]
    },
    {
      "cell_type": "code",
      "metadata": {
        "id": "DeoY7_uHPL62",
        "colab_type": "code",
        "colab": {}
      },
      "source": [
        ""
      ],
      "execution_count": 0,
      "outputs": []
    },
    {
      "cell_type": "markdown",
      "metadata": {
        "id": "PrentBLIMPoi",
        "colab_type": "text"
      },
      "source": [
        "Опишем модель, реализующую построение дерева решений"
      ]
    },
    {
      "cell_type": "code",
      "metadata": {
        "id": "lLSJbcUmfDb4",
        "colab_type": "code",
        "colab": {}
      },
      "source": [
        "\n",
        "# Реализуем класс узла\n",
        "class Node:\n",
        "    \n",
        "    def __init__(self, index, t, true_branch, false_branch):\n",
        "        self.index = index  # индекс признака, по которому ведется сравнение с порогом в этом узле\n",
        "        self.t = t  # значение порога\n",
        "        self.true_branch = true_branch  # поддерево, удовлетворяющее условию в узле\n",
        "        self.false_branch = false_branch  # поддерево, не удовлетворяющее условию в узле"
      ],
      "execution_count": 0,
      "outputs": []
    },
    {
      "cell_type": "code",
      "metadata": {
        "id": "fbejygBCfHp7",
        "colab_type": "code",
        "colab": {}
      },
      "source": [
        "# И класс терминального узла (листа)\n",
        "\n",
        "class Leaf:\n",
        "    \n",
        "    def __init__(self, data, labels):\n",
        "        self.data = data\n",
        "        self.labels = labels\n",
        "        self.prediction = self.predict()\n",
        "        \n",
        "    def predict(self):\n",
        "  \n",
        "        prediction = np.mean(self.labels)\n",
        "        #print('prediction',prediction)\n",
        "\n",
        "        return prediction"
      ],
      "execution_count": 0,
      "outputs": []
    },
    {
      "cell_type": "code",
      "metadata": {
        "id": "m71rSBWYfO0E",
        "colab_type": "code",
        "colab": {}
      },
      "source": [
        "# Расчет критерия дисперсии\n",
        "\n",
        "def variance(labels):\n",
        "    l=0.0\n",
        "   \n",
        "\n",
        "    #impurity = np.var(labels)\n",
        "    impurity = np.sum((labels-np.mean(labels))**2)/(len(labels)+l)\n",
        "    return impurity"
      ],
      "execution_count": 0,
      "outputs": []
    },
    {
      "cell_type": "code",
      "metadata": {
        "id": "Bkqju7yfgHQL",
        "colab_type": "code",
        "colab": {}
      },
      "source": [
        "# Расчет качества\n",
        "\n",
        "def quality(left_labels, right_labels, current_variance):\n",
        "\n",
        "    # доля выбоки, ушедшая в левое поддерево\n",
        "\n",
        "    p = float(left_labels.shape[0]) / (left_labels.shape[0] + right_labels.shape[0])\n",
        "    \n",
        "    return current_variance - p * variance(left_labels) - (1 - p) * variance(right_labels)\n",
        "    #return current_variance - variance(left_labels) -  variance(right_labels)"
      ],
      "execution_count": 0,
      "outputs": []
    },
    {
      "cell_type": "code",
      "metadata": {
        "id": "rkbbGo0bgLST",
        "colab_type": "code",
        "colab": {}
      },
      "source": [
        "\n",
        "# Разбиение датасета в узле\n",
        "\n",
        "def split(data, labels, index, t):\n",
        "    \n",
        "    left = np.where(data[:, index] <= t)\n",
        "    right = np.where(data[:, index] > t)\n",
        "        \n",
        "    true_data = data[left]\n",
        "    false_data = data[right]\n",
        "    true_labels = labels[left]\n",
        "    false_labels = labels[right]\n",
        "        \n",
        "    return true_data, false_data, true_labels, false_labels"
      ],
      "execution_count": 0,
      "outputs": []
    },
    {
      "cell_type": "code",
      "metadata": {
        "id": "I_3hx3wohzHA",
        "colab_type": "code",
        "colab": {}
      },
      "source": [
        "# Нахождение наилучшего разбиения\n",
        "\n",
        "def find_best_split(data, labels):\n",
        "    \n",
        "    #  обозначим минимальное количество объектов в узле\n",
        "    min_leaf = 2\n",
        "\n",
        "    current_variance = variance(labels)\n",
        "\n",
        "    best_quality = 0\n",
        "    best_t = None\n",
        "    best_index = None\n",
        "    \n",
        "    n_features = data.shape[1]\n",
        "    \n",
        "    for index in range(n_features):\n",
        "\n",
        "        # будем проверять только уникальные значения признака, исключая повторения\n",
        "        t_values = np.unique([row[index] for row in data])\n",
        "\n",
        "        if t_values.shape[0]>min_leaf*2:\n",
        "          for t in t_values:\n",
        "              true_data, false_data, true_labels, false_labels = split(data, labels, index, t)\n",
        "              #  пропускаем разбиения, в которых в узле остается менее 5 объектов\n",
        "              if len(true_data) < min_leaf or len(false_data) < min_leaf:\n",
        "                  continue\n",
        "              \n",
        "              current_quality = quality(true_labels, false_labels, current_variance)\n",
        "              \n",
        "              #  выбираем порог, на котором получается максимальный прирост качества\n",
        "              if current_quality > best_quality:\n",
        "                  best_quality, best_t, best_index = current_quality, t, index\n",
        "\n",
        "\n",
        "    return best_quality, best_t, best_index"
      ],
      "execution_count": 0,
      "outputs": []
    },
    {
      "cell_type": "code",
      "metadata": {
        "id": "M1gsAU57h3YK",
        "colab_type": "code",
        "colab": {}
      },
      "source": [
        "# Построение дерева с помощью рекурсивной функции\n",
        "\n",
        "def build_tree(data, labels, max_depth):\n",
        "\n",
        " \n",
        "    quality, t, index = find_best_split(data, labels)\n",
        "\n",
        "  \n",
        "\n",
        "    #  Базовый случай - прекращаем рекурсию, когда нет прироста в качества\n",
        "    if quality == 0 or max_depth==0:\n",
        "        return Leaf(data, labels)\n",
        "    else:\n",
        "\n",
        "        true_data, false_data, true_labels, false_labels = split(data, labels, index, t)\n",
        "\n",
        "\n",
        "\n",
        "\n",
        "        # Рекурсивно строим два поддерева\n",
        "        true_branch = build_tree(true_data, true_labels, max_depth-1)\n",
        "        false_branch = build_tree(false_data, false_labels, max_depth-1)\n",
        "\n",
        "    # Возвращаем класс узла со всеми поддеревьями, то есть целого дерева\n",
        "    return Node(index, t, true_branch, false_branch)"
      ],
      "execution_count": 0,
      "outputs": []
    },
    {
      "cell_type": "code",
      "metadata": {
        "id": "e-WL0Y6Ah5sr",
        "colab_type": "code",
        "colab": {}
      },
      "source": [
        "def classify_object(obj, node):\n",
        "\n",
        "    #  Останавливаем рекурсию, если достигли листа\n",
        "    if isinstance(node, Leaf):\n",
        "        answer = node.prediction\n",
        "        return answer\n",
        "\n",
        "    if obj[node.index] <= node.t:\n",
        "        return classify_object(obj, node.true_branch)\n",
        "    else:\n",
        "        return classify_object(obj, node.false_branch)"
      ],
      "execution_count": 0,
      "outputs": []
    },
    {
      "cell_type": "code",
      "metadata": {
        "id": "_5PwLSxlh-O-",
        "colab_type": "code",
        "colab": {}
      },
      "source": [
        "def predict(data, tree):\n",
        "    \n",
        "    classes = []\n",
        "    for obj in data:\n",
        "        prediction = classify_object(obj, tree)\n",
        "        classes.append(prediction)\n",
        "    return classes"
      ],
      "execution_count": 0,
      "outputs": []
    },
    {
      "cell_type": "markdown",
      "metadata": {
        "id": "7xJCdggZbsh_",
        "colab_type": "text"
      },
      "source": [
        "Напишем функцию, реализующую предсказание в градиентном бустинге."
      ]
    },
    {
      "cell_type": "code",
      "metadata": {
        "id": "7H9pH2QVzxwi",
        "colab_type": "code",
        "colab": {}
      },
      "source": [
        "def mserror(X, w, y_pred):\n",
        "    y = X.dot(w)\n",
        "    return (sum((y - y_pred)**2)) / len(y)"
      ],
      "execution_count": 0,
      "outputs": []
    },
    {
      "cell_type": "code",
      "metadata": {
        "id": "2GnIIIetgtQn",
        "colab_type": "code",
        "colab": {}
      },
      "source": [
        "#подберем коэффициенты перед деревьями\n",
        "def get_coef(X_, Y, w):\n",
        "\n",
        "  w.append(1)\n",
        "\n",
        "\n",
        "\n",
        "  w_list = []\n",
        " \n",
        "  # список значений ошибок после каждой итерации\n",
        "  errors = []\n",
        "  error=10000000\n",
        "\n",
        "  # шаг градиентного спуска\n",
        "  alpha = 0.0001\n",
        "  lambda_=0\n",
        "\n",
        "  # максимальное число итераций\n",
        "  max_iter = 1000\n",
        "\n",
        "  # критерий сходимости (разница весов, при которой алгоритм останавливается)\n",
        "  min_weight_dist = 0.001\n",
        "\n",
        "  # зададим начальную разницу весов большим числом\n",
        "  weight_dist = 100000\n",
        "\n",
        "  # счетчик итераций\n",
        "  iter_num = 0\n",
        "\n",
        "\n",
        "  # ход градиентного спуска\n",
        "  while weight_dist > min_weight_dist and iter_num < max_iter:\n",
        "\n",
        "      \n",
        "\n",
        "      y_pred=np.dot(X_,w)\n",
        "      error=mean_squared_error(Y, y_pred)\n",
        "      errors.append(error)\n",
        "\n",
        "\n",
        "      m=X_.T@(y_pred- Y)/7000*alpha*2\n",
        "\n",
        "\n",
        "      new_w = w - 2 * alpha * np.dot(X_.T, (y_pred- Y)) / Y.shape[0]\n",
        "\n",
        "      weight_dist = np.linalg.norm(new_w - w, ord=2)\n",
        "\n",
        "      w_list.append(new_w.copy())\n",
        "      \n",
        "\n",
        "      iter_num += 1\n",
        "      w = new_w\n",
        "      \n",
        "  w_list = np.array(w_list)\n",
        "\n",
        "  return list(w)"
      ],
      "execution_count": 0,
      "outputs": []
    },
    {
      "cell_type": "code",
      "metadata": {
        "id": "4m2EjjtFteeB",
        "colab_type": "code",
        "colab": {}
      },
      "source": [
        "def answers_matrix(X, trees_list):\n",
        "  matrix=[]\n",
        "  for x in X:\n",
        "       answers=[eta*classify_object(x,alg) for alg in trees_list]\n",
        "       matrix.append(answers)\n",
        "  return matrix"
      ],
      "execution_count": 0,
      "outputs": []
    },
    {
      "cell_type": "code",
      "metadata": {
        "id": "wU_Rkc63bsiA",
        "colab_type": "code",
        "colab": {}
      },
      "source": [
        "def gb_predict(X, trees_list, coef_list, eta):\n",
        "    # Реализуемый алгоритм градиентного бустинга будет инициализироваться нулевыми значениями,\n",
        "    # поэтому все деревья из списка trees_list уже являются дополнительными и при предсказании прибавляются с шагом eta\n",
        "\n",
        "   \n",
        "    current_prediction=np.array([sum([eta* coef * classify_object(x,alg) for alg, coef in zip(trees_list, coef_list)]) for x in X])\n",
        "\n",
        "    return current_prediction"
      ],
      "execution_count": 0,
      "outputs": []
    },
    {
      "cell_type": "markdown",
      "metadata": {
        "id": "6gZvsyfSbsiD",
        "colab_type": "text"
      },
      "source": [
        "В качестве функционала ошибки будем использовать среднеквадратичную ошибку. Реализуем соответствующую функцию."
      ]
    },
    {
      "cell_type": "code",
      "metadata": {
        "id": "0xbjFIEKbsiE",
        "colab_type": "code",
        "colab": {}
      },
      "source": [
        "def mean_squared_error(y_real, prediction):\n",
        "    return (sum((y_real - prediction)**2)) / len(y_real)"
      ],
      "execution_count": 0,
      "outputs": []
    },
    {
      "cell_type": "markdown",
      "metadata": {
        "id": "Qlr3KD6zbsiH",
        "colab_type": "text"
      },
      "source": [
        "Используем $L_{2}$ loss $L(y, z) = (y-z)^{2},$ ее производная по $z$ примет вид $L'(y, z) = 2(z-y)$. Реализуем ее также в виде функции (коэффициент 2 можно отбросить)."
      ]
    },
    {
      "cell_type": "code",
      "metadata": {
        "id": "WRaZEd3ebsiI",
        "colab_type": "code",
        "colab": {}
      },
      "source": [
        "def bias(y, z):\n",
        "    return (y - z)"
      ],
      "execution_count": 0,
      "outputs": []
    },
    {
      "cell_type": "markdown",
      "metadata": {
        "id": "ut-7dBgVbsiK",
        "colab_type": "text"
      },
      "source": [
        "Реализуем функцию обучения градиентного бустинга."
      ]
    },
    {
      "cell_type": "code",
      "metadata": {
        "id": "HoIdAoPYbsiL",
        "colab_type": "code",
        "colab": {}
      },
      "source": [
        "def gb_fit(n_trees, max_depth, X_train, X_test, y_train, y_test, coefs, eta,subset_size=0.5):\n",
        "    \n",
        "    # Деревья будем записывать в список\n",
        "    trees = []\n",
        "    trees_answers = []\n",
        "    \n",
        "    # Будем записывать ошибки на обучающей и тестовой выборке на каждой итерации в список\n",
        "    train_errors = []\n",
        "    test_errors = []\n",
        "    fit_size=int(subset_size*len(y_train))\n",
        " \n",
        "\n",
        "\n",
        "    for i in range(n_trees):\n",
        "        print('номер дерева',i)\n",
        "        a=np.arange(len(y_train))\n",
        "\n",
        "        np.random.shuffle(a)\n",
        "   \n",
        "        index_array=np.random.choice(a, fit_size, replace=False)\n",
        "        X_train_new=X_train[index_array]\n",
        "        y_train_new=y_train[index_array]\n",
        "        \n",
        "\n",
        "\n",
        "        # инициализируем бустинг начальным алгоритмом, возвращающим ноль, \n",
        "        # поэтому первый алгоритм просто обучаем на выборке и добавляем в список\n",
        "        if len(trees) == 0:\n",
        "            # обучаем первое дерево на обучающей выборке\n",
        "            tree = build_tree(X_train, y_train, max_depth)\n",
        "\n",
        "        else:\n",
        "\n",
        "            target = gb_predict(X_train, trees, coefs, eta)\n",
        "            \n",
        "\n",
        "            # алгоритмы начиная со второго обучаем на сдвиг\n",
        "            tree = build_tree(X_train,bias(y_train, target), max_depth)\n",
        "            trees_answers=np.array(answers_matrix(X_train, trees))\n",
        "\n",
        "            \n",
        "            \n",
        "            if len(trees)>1:\n",
        "              coefs=(get_coef(trees_answers, y_train, coefs))\n",
        "  \n",
        "            \n",
        "            train_errors.append(mean_squared_error(y_train, gb_predict(X_train, trees, coefs, eta)))\n",
        "            test_errors.append(mean_squared_error(y_test, gb_predict(X_test, trees, coefs, eta)))\n",
        "\n",
        "        trees.append(tree)\n",
        "\n",
        "        \n",
        "    return trees, train_errors, test_errors, coefs"
      ],
      "execution_count": 0,
      "outputs": []
    },
    {
      "cell_type": "markdown",
      "metadata": {
        "id": "0vkHFhhzbsiN",
        "colab_type": "text"
      },
      "source": [
        "Теперь обучим несколько моделей с разными параметрами и исследуем их поведение."
      ]
    },
    {
      "cell_type": "code",
      "metadata": {
        "id": "PtciIFdTmezy",
        "colab_type": "code",
        "colab": {}
      },
      "source": [
        "def r2_score(y, y_predict):\n",
        "  return 1-np.sum((y_predict-y)**2)/np.sum((y-y.mean())**2)"
      ],
      "execution_count": 0,
      "outputs": []
    },
    {
      "cell_type": "code",
      "metadata": {
        "id": "GDMFn3R-bsiR",
        "colab_type": "code",
        "colab": {}
      },
      "source": [
        "def evaluate_alg(X_train, X_test, y_train, y_test, trees, coefs, eta):\n",
        "    train_prediction = gb_predict(X_train, trees, coefs, eta)\n",
        "    print('y_train',y_train)\n",
        "    print('train_prediction',train_prediction)\n",
        "\n",
        "    print(f'Ошибка алгоритма из {n_trees} деревьев глубиной {max_depth} \\\n",
        "    с шагом {eta} на тренировочной выборке: {r2_score(y_train, train_prediction)}')\n",
        "\n",
        "    test_prediction = gb_predict(X_test, trees, coefs, eta)\n",
        "\n",
        "    print(f'Ошибка алгоритма из {n_trees} деревьев глубиной {max_depth} \\\n",
        "    с шагом {eta} на тестовой выборке: {r2_score(y_test, test_prediction)}')\n",
        "    return train_prediction, test_prediction"
      ],
      "execution_count": 0,
      "outputs": []
    },
    {
      "cell_type": "code",
      "metadata": {
        "id": "2WvxluSlbsiO",
        "colab_type": "code",
        "colab": {
          "base_uri": "https://localhost:8080/",
          "height": 323
        },
        "outputId": "6a2c6f28-5ef4-45fb-8a5a-e56404036539"
      },
      "source": [
        "# Число деревьев в ансамбле\n",
        "n_trees = 18\n",
        "\n",
        "# для простоты примем коэффициенты равными 1\n",
        "\n",
        "coefs = [1]\n",
        "# Максимальная глубина деревьев\n",
        "max_depth = 3\n",
        "\n",
        "# Шаг\n",
        "eta = 0.4\n",
        "\n",
        "trees, train_errors, test_errors, k = gb_fit(n_trees, max_depth, X_train, X_test, y_train, y_test, coefs, eta)"
      ],
      "execution_count": 168,
      "outputs": [
        {
          "output_type": "stream",
          "text": [
            "номер дерева 0\n",
            "номер дерева 1\n",
            "номер дерева 2\n",
            "номер дерева 3\n",
            "номер дерева 4\n",
            "номер дерева 5\n",
            "номер дерева 6\n",
            "номер дерева 7\n",
            "номер дерева 8\n",
            "номер дерева 9\n",
            "номер дерева 10\n",
            "номер дерева 11\n",
            "номер дерева 12\n",
            "номер дерева 13\n",
            "номер дерева 14\n",
            "номер дерева 15\n",
            "номер дерева 16\n",
            "номер дерева 17\n"
          ],
          "name": "stdout"
        }
      ]
    },
    {
      "cell_type": "code",
      "metadata": {
        "id": "CTVCtFipMQpd",
        "colab_type": "code",
        "colab": {
          "base_uri": "https://localhost:8080/",
          "height": 297
        },
        "outputId": "ae45693d-0b5f-4dad-cbef-59b578da2f26"
      },
      "source": [
        "#изменение mse от количества деревьев\n",
        "plt.plot(train_errors[1:n_trees], color='red', label='train_errors')\n",
        "\n",
        "plt.plot(test_errors[1:n_trees], label='test_errors')\n",
        "\n",
        "plt.legend(loc='upper center')\n",
        "plt.xlabel('n_trees')\n",
        "plt.ylabel('error')\n"
      ],
      "execution_count": 169,
      "outputs": [
        {
          "output_type": "execute_result",
          "data": {
            "text/plain": [
              "Text(0, 0.5, 'error')"
            ]
          },
          "metadata": {
            "tags": []
          },
          "execution_count": 169
        },
        {
          "output_type": "display_data",
          "data": {
            "image/png": "[encoded data removed]",
            "text/plain": [
              "<Figure size 432x288 with 1 Axes>"
            ]
          },
          "metadata": {
            "tags": []
          }
        }
      ]
    },
    {
      "cell_type": "code",
      "metadata": {
        "id": "nXOfaMioO3i2",
        "colab_type": "code",
        "colab": {
          "base_uri": "https://localhost:8080/",
          "height": 306
        },
        "outputId": "7ebaf85a-d300-44e4-935b-2823dad5de3b"
      },
      "source": [
        "test_errors"
      ],
      "execution_count": 170,
      "outputs": [
        {
          "output_type": "execute_result",
          "data": {
            "text/plain": [
              "[1595.05418499784,\n",
              " 47.872403994155896,\n",
              " 47.916792572522446,\n",
              " 46.75055522112635,\n",
              " 46.11594507921903,\n",
              " 45.85997108979171,\n",
              " 45.719025111452055,\n",
              " 45.59467628449876,\n",
              " 45.59311699911506,\n",
              " 45.63365665432255,\n",
              " 45.546380628368546,\n",
              " 45.56596065677097,\n",
              " 45.58084264441226,\n",
              " 45.321235494617355,\n",
              " 45.17482489228307,\n",
              " 45.178835280011874,\n",
              " 45.16738286159591]"
            ]
          },
          "metadata": {
            "tags": []
          },
          "execution_count": 170
        }
      ]
    },
    {
      "cell_type": "code",
      "metadata": {
        "id": "WEBbjCynbsiV",
        "colab_type": "code",
        "colab": {
          "base_uri": "https://localhost:8080/",
          "height": 102
        },
        "outputId": "6e4d892a-2d48-410b-9dd0-2f26753c0862"
      },
      "source": [
        "train_prediction, test_prediction=evaluate_alg(X_train, X_test, y_train, y_test, trees, k, eta)"
      ],
      "execution_count": 171,
      "outputs": [
        {
          "output_type": "stream",
          "text": [
            "y_train [82. 68. 51. ... 55. 76. 59.]\n",
            "train_prediction [81.96702344 67.7074173  54.03501087 ... 53.89235971 63.3354655\n",
            " 54.71849969]\n",
            "Ошибка алгоритма из 18 деревьев глубиной 3     с шагом 0.4 на тренировочной выборке: 0.7478073331348227\n",
            "Ошибка алгоритма из 18 деревьев глубиной 3     с шагом 0.4 на тестовой выборке: 0.7514176880009243\n"
          ],
          "name": "stdout"
        }
      ]
    },
    {
      "cell_type": "code",
      "metadata": {
        "id": "iNmoY3vBMKeo",
        "colab_type": "code",
        "colab": {
          "base_uri": "https://localhost:8080/",
          "height": 54
        },
        "outputId": "e2b2e057-a3fa-4d0e-d4f9-4945c7e6d835"
      },
      "source": [
        "print(k)"
      ],
      "execution_count": 172,
      "outputs": [
        {
          "output_type": "stream",
          "text": [
            "[1.3150434690716566, 1.187697615864193, 0.7918921160746394, 1.0003233474648896, 1.0002656965717724, 1.0001086158849382, 1.0001188255694375, 1.0000825959212194, 1.0000109459768651, 1.000057849396708, 1.000054270291006, 1.0000162400896455, 1.0000131677076636, 1.0000356127735157, 1.000018289000549, 1.0000080188823708, 1.0000028472987572]\n"
          ],
          "name": "stdout"
        }
      ]
    },
    {
      "cell_type": "markdown",
      "metadata": {
        "id": "TluGn7Iubsib",
        "colab_type": "text"
      },
      "source": [
        "Построим графики зависимости ошибки на обучающей и тестовой выборках от числа итераций."
      ]
    },
    {
      "cell_type": "code",
      "metadata": {
        "id": "fJLdSrEln3Kh",
        "colab_type": "code",
        "colab": {
          "base_uri": "https://localhost:8080/",
          "height": 282
        },
        "outputId": "47e4372f-3ef3-4e11-a8c4-d3fde4aa07f8"
      },
      "source": [
        "plt.plot(y_train[0:20])\n",
        "plt.plot(train_prediction[0:20])"
      ],
      "execution_count": 173,
      "outputs": [
        {
          "output_type": "execute_result",
          "data": {
            "text/plain": [
              "[<matplotlib.lines.Line2D at 0x7f8723147dd8>]"
            ]
          },
          "metadata": {
            "tags": []
          },
          "execution_count": 173
        },
        {
          "output_type": "display_data",
          "data": {
            "image/png": "[encoded data removed]",
            "text/plain": [
              "<Figure size 432x288 with 1 Axes>"
            ]
          },
          "metadata": {
            "tags": []
          }
        }
      ]
    },
    {
      "cell_type": "code",
      "metadata": {
        "id": "jgW1kropME48",
        "colab_type": "code",
        "colab": {
          "base_uri": "https://localhost:8080/",
          "height": 282
        },
        "outputId": "3454bd5e-112e-47eb-db15-0e7c444efbba"
      },
      "source": [
        "plt.plot(y_test[0:20])\n",
        "plt.plot(test_prediction[0:20])"
      ],
      "execution_count": 174,
      "outputs": [
        {
          "output_type": "execute_result",
          "data": {
            "text/plain": [
              "[<matplotlib.lines.Line2D at 0x7f8722bb2b00>]"
            ]
          },
          "metadata": {
            "tags": []
          },
          "execution_count": 174
        },
        {
          "output_type": "display_data",
          "data": {
            "image/png": "[encoded data removed]",
            "text/plain": [
              "<Figure size 432x288 with 1 Axes>"
            ]
          },
          "metadata": {
            "tags": []
          }
        }
      ]
    },
    {
      "cell_type": "markdown",
      "metadata": {
        "id": "ttZqKeJdmShA",
        "colab_type": "text"
      },
      "source": [
        "Сделаем предсказание"
      ]
    },
    {
      "cell_type": "code",
      "metadata": {
        "id": "VIiXulQ-qeBv",
        "colab_type": "code",
        "colab": {
          "base_uri": "https://localhost:8080/",
          "height": 204
        },
        "outputId": "e4743c32-ebf5-4a25-aaea-fccd5752abdd"
      },
      "source": [
        "X_predict.head()"
      ],
      "execution_count": 175,
      "outputs": [
        {
          "output_type": "execute_result",
          "data": {
            "text/html": [
              "<div>\n",
              "<style scoped>\n",
              "    .dataframe tbody tr th:only-of-type {\n",
              "        vertical-align: middle;\n",
              "    }\n",
              "\n",
              "    .dataframe tbody tr th {\n",
              "        vertical-align: top;\n",
              "    }\n",
              "\n",
              "    .dataframe thead th {\n",
              "        text-align: right;\n",
              "    }\n",
              "</style>\n",
              "<table border=\"1\" class=\"dataframe\">\n",
              "  <thead>\n",
              "    <tr style=\"text-align: right;\">\n",
              "      <th></th>\n",
              "      <th>years_of_experience</th>\n",
              "      <th>lesson_price</th>\n",
              "      <th>qualification</th>\n",
              "      <th>physics</th>\n",
              "      <th>mean_score</th>\n",
              "    </tr>\n",
              "  </thead>\n",
              "  <tbody>\n",
              "    <tr>\n",
              "      <th>0</th>\n",
              "      <td>0.571977</td>\n",
              "      <td>-1.234296</td>\n",
              "      <td>-0.894033</td>\n",
              "      <td>-0.785004</td>\n",
              "      <td>-0.669531</td>\n",
              "    </tr>\n",
              "    <tr>\n",
              "      <th>1</th>\n",
              "      <td>0.571977</td>\n",
              "      <td>0.291657</td>\n",
              "      <td>0.366234</td>\n",
              "      <td>-0.785004</td>\n",
              "      <td>0.099446</td>\n",
              "    </tr>\n",
              "    <tr>\n",
              "      <th>2</th>\n",
              "      <td>-0.549547</td>\n",
              "      <td>-0.280575</td>\n",
              "      <td>-0.894033</td>\n",
              "      <td>1.273752</td>\n",
              "      <td>-1.520648</td>\n",
              "    </tr>\n",
              "    <tr>\n",
              "      <th>3</th>\n",
              "      <td>2.254262</td>\n",
              "      <td>2.294470</td>\n",
              "      <td>1.626501</td>\n",
              "      <td>1.273752</td>\n",
              "      <td>2.014060</td>\n",
              "    </tr>\n",
              "    <tr>\n",
              "      <th>4</th>\n",
              "      <td>1.132739</td>\n",
              "      <td>2.771331</td>\n",
              "      <td>1.626501</td>\n",
              "      <td>1.273752</td>\n",
              "      <td>1.948690</td>\n",
              "    </tr>\n",
              "  </tbody>\n",
              "</table>\n",
              "</div>"
            ],
            "text/plain": [
              "   years_of_experience  lesson_price  qualification   physics  mean_score\n",
              "0             0.571977     -1.234296      -0.894033 -0.785004   -0.669531\n",
              "1             0.571977      0.291657       0.366234 -0.785004    0.099446\n",
              "2            -0.549547     -0.280575      -0.894033  1.273752   -1.520648\n",
              "3             2.254262      2.294470       1.626501  1.273752    2.014060\n",
              "4             1.132739      2.771331       1.626501  1.273752    1.948690"
            ]
          },
          "metadata": {
            "tags": []
          },
          "execution_count": 175
        }
      ]
    },
    {
      "cell_type": "code",
      "metadata": {
        "id": "1zkysI4tidIu",
        "colab_type": "code",
        "colab": {}
      },
      "source": [
        "X_predictarray=X_predict.to_numpy()"
      ],
      "execution_count": 0,
      "outputs": []
    },
    {
      "cell_type": "code",
      "metadata": {
        "id": "J0RCKhiCf6gV",
        "colab_type": "code",
        "colab": {
          "base_uri": "https://localhost:8080/",
          "height": 51
        },
        "outputId": "23f2db3d-53bb-4560-96c0-4261a2ce4cfe"
      },
      "source": [
        "final_prediction = gb_predict(X_predictarray, trees, k, eta)\n",
        "final_prediction"
      ],
      "execution_count": 177,
      "outputs": [
        {
          "output_type": "execute_result",
          "data": {
            "text/plain": [
              "array([57.62433084, 63.42593159, 52.75437512, ..., 57.58022108,\n",
              "       65.53519959, 71.72053024])"
            ]
          },
          "metadata": {
            "tags": []
          },
          "execution_count": 177
        }
      ]
    },
    {
      "cell_type": "code",
      "metadata": {
        "id": "bC3zcnqdp7te",
        "colab_type": "code",
        "colab": {
          "base_uri": "https://localhost:8080/",
          "height": 450
        },
        "outputId": "bc1b74bf-1d85-4e55-f8e3-908a38bac227"
      },
      "source": [
        "pred_data=pd.DataFrame(index=pred_id)\n",
        "\n",
        "pred_data['mean_exam_points']=final_prediction\n",
        "pred_data"
      ],
      "execution_count": 178,
      "outputs": [
        {
          "output_type": "execute_result",
          "data": {
            "text/html": [
              "<div>\n",
              "<style scoped>\n",
              "    .dataframe tbody tr th:only-of-type {\n",
              "        vertical-align: middle;\n",
              "    }\n",
              "\n",
              "    .dataframe tbody tr th {\n",
              "        vertical-align: top;\n",
              "    }\n",
              "\n",
              "    .dataframe thead th {\n",
              "        text-align: right;\n",
              "    }\n",
              "</style>\n",
              "<table border=\"1\" class=\"dataframe\">\n",
              "  <thead>\n",
              "    <tr style=\"text-align: right;\">\n",
              "      <th></th>\n",
              "      <th>mean_exam_points</th>\n",
              "    </tr>\n",
              "    <tr>\n",
              "      <th>Id</th>\n",
              "      <th></th>\n",
              "    </tr>\n",
              "  </thead>\n",
              "  <tbody>\n",
              "    <tr>\n",
              "      <th>10000</th>\n",
              "      <td>57.624331</td>\n",
              "    </tr>\n",
              "    <tr>\n",
              "      <th>10001</th>\n",
              "      <td>63.425932</td>\n",
              "    </tr>\n",
              "    <tr>\n",
              "      <th>10002</th>\n",
              "      <td>52.754375</td>\n",
              "    </tr>\n",
              "    <tr>\n",
              "      <th>10003</th>\n",
              "      <td>87.665279</td>\n",
              "    </tr>\n",
              "    <tr>\n",
              "      <th>10004</th>\n",
              "      <td>87.055212</td>\n",
              "    </tr>\n",
              "    <tr>\n",
              "      <th>...</th>\n",
              "      <td>...</td>\n",
              "    </tr>\n",
              "    <tr>\n",
              "      <th>19995</th>\n",
              "      <td>45.389329</td>\n",
              "    </tr>\n",
              "    <tr>\n",
              "      <th>19996</th>\n",
              "      <td>83.704492</td>\n",
              "    </tr>\n",
              "    <tr>\n",
              "      <th>19997</th>\n",
              "      <td>57.580221</td>\n",
              "    </tr>\n",
              "    <tr>\n",
              "      <th>19998</th>\n",
              "      <td>65.535200</td>\n",
              "    </tr>\n",
              "    <tr>\n",
              "      <th>19999</th>\n",
              "      <td>71.720530</td>\n",
              "    </tr>\n",
              "  </tbody>\n",
              "</table>\n",
              "<p>10000 rows × 1 columns</p>\n",
              "</div>"
            ],
            "text/plain": [
              "       mean_exam_points\n",
              "Id                     \n",
              "10000         57.624331\n",
              "10001         63.425932\n",
              "10002         52.754375\n",
              "10003         87.665279\n",
              "10004         87.055212\n",
              "...                 ...\n",
              "19995         45.389329\n",
              "19996         83.704492\n",
              "19997         57.580221\n",
              "19998         65.535200\n",
              "19999         71.720530\n",
              "\n",
              "[10000 rows x 1 columns]"
            ]
          },
          "metadata": {
            "tags": []
          },
          "execution_count": 178
        }
      ]
    },
    {
      "cell_type": "code",
      "metadata": {
        "id": "nkmZXg9ImK3A",
        "colab_type": "code",
        "colab": {}
      },
      "source": [
        "finalDf=pd.DataFrame(pred_data)\n",
        "finalDf.to_csv('/usr/pred_data.csv', sep=',')\n",
        "\n"
      ],
      "execution_count": 0,
      "outputs": []
    }
  ]
}